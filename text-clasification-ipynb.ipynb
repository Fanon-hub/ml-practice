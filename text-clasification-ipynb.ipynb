{
 "cells": [
  {
   "cell_type": "markdown",
   "id": "6e4ec207",
   "metadata": {
    "id": "ZA72xNPxmXgu",
    "papermill": {
     "duration": 0.008135,
     "end_time": "2025-04-28T12:32:38.472863",
     "exception": false,
     "start_time": "2025-04-28T12:32:38.464728",
     "status": "completed"
    },
    "tags": []
   },
   "source": [
    "## Basic text Classification\n",
    "Training a binary classifier to perform sentiment analysis on an IMDB dataset."
   ]
  },
  {
   "cell_type": "code",
   "execution_count": 1,
   "id": "ac435998",
   "metadata": {
    "execution": {
     "iopub.execute_input": "2025-04-28T12:32:38.489886Z",
     "iopub.status.busy": "2025-04-28T12:32:38.488899Z",
     "iopub.status.idle": "2025-04-28T12:32:57.780845Z",
     "shell.execute_reply": "2025-04-28T12:32:57.779723Z"
    },
    "id": "uiT3MeMjnqA0",
    "outputId": "fbc69f7f-ec04-4833-eeac-8c88f9af150c",
    "papermill": {
     "duration": 19.302145,
     "end_time": "2025-04-28T12:32:57.782946",
     "exception": false,
     "start_time": "2025-04-28T12:32:38.480801",
     "status": "completed"
    },
    "tags": []
   },
   "outputs": [
    {
     "name": "stderr",
     "output_type": "stream",
     "text": [
      "2025-04-28 12:32:40.297945: E external/local_xla/xla/stream_executor/cuda/cuda_fft.cc:477] Unable to register cuFFT factory: Attempting to register factory for plugin cuFFT when one has already been registered\n",
      "WARNING: All log messages before absl::InitializeLog() is called are written to STDERR\n",
      "E0000 00:00:1745843560.526073      13 cuda_dnn.cc:8310] Unable to register cuDNN factory: Attempting to register factory for plugin cuDNN when one has already been registered\n",
      "E0000 00:00:1745843560.595614      13 cuda_blas.cc:1418] Unable to register cuBLAS factory: Attempting to register factory for plugin cuBLAS when one has already been registered\n"
     ]
    },
    {
     "name": "stdout",
     "output_type": "stream",
     "text": [
      "2.18.0\n"
     ]
    }
   ],
   "source": [
    "import matplotlib.pyplot as plt\n",
    "import os\n",
    "import re\n",
    "import shutil\n",
    "import string\n",
    "import tensorflow as tf\n",
    "\n",
    "from tensorflow.keras import layers\n",
    "from tensorflow.keras import losses\n",
    "\n",
    "print(tf. __version__)"
   ]
  },
  {
   "cell_type": "markdown",
   "id": "61f58018",
   "metadata": {
    "id": "h1H6Ng7eoOAF",
    "papermill": {
     "duration": 0.006962,
     "end_time": "2025-04-28T12:32:57.797609",
     "exception": false,
     "start_time": "2025-04-28T12:32:57.790647",
     "status": "completed"
    },
    "tags": []
   },
   "source": [
    "## Sentiment Analysis\n",
    "\n",
    "This notebook trains a sentiment analysis model to classify movie reviews as *positive* or *negative*, based on the text of the review.\n",
    "\n",
    "We will use the [Large Review Dataset](https://) that contains the text of 50,000 movie reviews from the [Internet Movie Database](https://). The are 25,000 reviews for training and 25,000 reviews for testing. The training and testing sets are *balanced*, meaning they contain an equal number of positive and negative reviews.\n",
    "\n"
   ]
  },
  {
   "cell_type": "markdown",
   "id": "bc5b4c7c",
   "metadata": {
    "papermill": {
     "duration": 0.00695,
     "end_time": "2025-04-28T12:32:57.811706",
     "exception": false,
     "start_time": "2025-04-28T12:32:57.804756",
     "status": "completed"
    },
    "tags": []
   },
   "source": [
    "## Downloading and Exploring the IMDB dataset "
   ]
  },
  {
   "cell_type": "code",
   "execution_count": 2,
   "id": "69440ac9",
   "metadata": {
    "execution": {
     "iopub.execute_input": "2025-04-28T12:32:57.828255Z",
     "iopub.status.busy": "2025-04-28T12:32:57.827551Z",
     "iopub.status.idle": "2025-04-28T12:33:49.983665Z",
     "shell.execute_reply": "2025-04-28T12:33:49.982684Z"
    },
    "id": "CKfxcSfBpsbl",
    "papermill": {
     "duration": 52.166237,
     "end_time": "2025-04-28T12:33:49.985410",
     "exception": false,
     "start_time": "2025-04-28T12:32:57.819173",
     "status": "completed"
    },
    "tags": []
   },
   "outputs": [
    {
     "name": "stdout",
     "output_type": "stream",
     "text": [
      "Downloading data from https://ai.stanford.edu/~amaas/data/sentiment/aclImdb_v1.tar.gz\n",
      "\u001b[1m84125825/84125825\u001b[0m \u001b[32m━━━━━━━━━━━━━━━━━━━━\u001b[0m\u001b[37m\u001b[0m \u001b[1m28s\u001b[0m 0us/step\n"
     ]
    }
   ],
   "source": [
    "url = \"https://ai.stanford.edu/~amaas/data/sentiment/aclImdb_v1.tar.gz\"\n",
    "dataset = tf.keras.utils.get_file(\"aclImdb_v1\", url, untar=True, cache_dir='.', cache_subdir=\"\")\n",
    "dataset_dir = os.path.join(os.path.dirname(dataset), 'aclImdb')"
   ]
  },
  {
   "cell_type": "code",
   "execution_count": 3,
   "id": "0d9aced4",
   "metadata": {
    "execution": {
     "iopub.execute_input": "2025-04-28T12:33:50.020673Z",
     "iopub.status.busy": "2025-04-28T12:33:50.019774Z",
     "iopub.status.idle": "2025-04-28T12:33:50.027205Z",
     "shell.execute_reply": "2025-04-28T12:33:50.026070Z"
    },
    "id": "uTjT0OEuoGxf",
    "papermill": {
     "duration": 0.026543,
     "end_time": "2025-04-28T12:33:50.028832",
     "exception": false,
     "start_time": "2025-04-28T12:33:50.002289",
     "status": "completed"
    },
    "tags": []
   },
   "outputs": [
    {
     "data": {
      "text/plain": [
       "['imdb.vocab', 'imdbEr.txt', 'train', 'test', 'README']"
      ]
     },
     "execution_count": 3,
     "metadata": {},
     "output_type": "execute_result"
    }
   ],
   "source": [
    "os.listdir(dataset_dir)"
   ]
  },
  {
   "cell_type": "code",
   "execution_count": 4,
   "id": "4949747c",
   "metadata": {
    "execution": {
     "iopub.execute_input": "2025-04-28T12:33:50.063684Z",
     "iopub.status.busy": "2025-04-28T12:33:50.063361Z",
     "iopub.status.idle": "2025-04-28T12:33:50.069530Z",
     "shell.execute_reply": "2025-04-28T12:33:50.068665Z"
    },
    "papermill": {
     "duration": 0.025092,
     "end_time": "2025-04-28T12:33:50.070953",
     "exception": false,
     "start_time": "2025-04-28T12:33:50.045861",
     "status": "completed"
    },
    "tags": []
   },
   "outputs": [
    {
     "data": {
      "text/plain": [
       "['neg',\n",
       " 'pos',\n",
       " 'unsup',\n",
       " 'urls_pos.txt',\n",
       " 'urls_unsup.txt',\n",
       " 'unsupBow.feat',\n",
       " 'urls_neg.txt',\n",
       " 'labeledBow.feat']"
      ]
     },
     "execution_count": 4,
     "metadata": {},
     "output_type": "execute_result"
    }
   ],
   "source": [
    "train_dir = os.path.join(dataset_dir, 'train')\n",
    "os.listdir(train_dir)"
   ]
  },
  {
   "cell_type": "markdown",
   "id": "208bdebc",
   "metadata": {
    "papermill": {
     "duration": 0.016816,
     "end_time": "2025-04-28T12:33:50.104653",
     "exception": false,
     "start_time": "2025-04-28T12:33:50.087837",
     "status": "completed"
    },
    "tags": []
   },
   "source": [
    "The **aclImdb/train/pos** and **aclImdb/train/neg** directories contain many text files, each of which is a single movie review. Let's take a look at one of them."
   ]
  },
  {
   "cell_type": "code",
   "execution_count": 5,
   "id": "64dd3d89",
   "metadata": {
    "execution": {
     "iopub.execute_input": "2025-04-28T12:33:50.138172Z",
     "iopub.status.busy": "2025-04-28T12:33:50.137831Z",
     "iopub.status.idle": "2025-04-28T12:33:50.144293Z",
     "shell.execute_reply": "2025-04-28T12:33:50.143098Z"
    },
    "papermill": {
     "duration": 0.024995,
     "end_time": "2025-04-28T12:33:50.145842",
     "exception": false,
     "start_time": "2025-04-28T12:33:50.120847",
     "status": "completed"
    },
    "tags": []
   },
   "outputs": [
    {
     "name": "stdout",
     "output_type": "stream",
     "text": [
      "Rachel Griffiths writes and directs this award winning short film. A heartwarming story about coping with grief and cherishing the memory of those we've loved and lost. Although, only 15 minutes long, Griffiths manages to capture so much emotion and truth onto film in the short space of time. Bud Tingwell gives a touching performance as Will, a widower struggling to cope with his wife's death. Will is confronted by the harsh reality of loneliness and helplessness as he proceeds to take care of Ruth's pet cow, Tulip. The film displays the grief and responsibility one feels for those they have loved and lost. Good cinematography, great direction, and superbly acted. It will bring tears to all those who have lost a loved one, and survived.\n"
     ]
    }
   ],
   "source": [
    "sample_file = os.path.join(train_dir, 'pos/1181_9.txt')\n",
    "with open(sample_file) as f:\n",
    "    print(f.read())"
   ]
  },
  {
   "cell_type": "markdown",
   "id": "8a860f62",
   "metadata": {
    "papermill": {
     "duration": 0.015762,
     "end_time": "2025-04-28T12:33:50.178189",
     "exception": false,
     "start_time": "2025-04-28T12:33:50.162427",
     "status": "completed"
    },
    "tags": []
   },
   "source": [
    "## Loading the dataset\n",
    "\n",
    "We will use the helpful [text_dataset_from_directory](http://) utility. Since we need two folders only, i.e. **class_a** and **class_b** which will be the positive and negative movie reviews, which can be found in **aclImdb/train/pos** and **aclImdb/train/neg**. Since the IMDB dataset contains other utilities we shall remove them before using this utility."
   ]
  },
  {
   "cell_type": "code",
   "execution_count": 6,
   "id": "0d60301c",
   "metadata": {
    "execution": {
     "iopub.execute_input": "2025-04-28T12:33:50.214263Z",
     "iopub.status.busy": "2025-04-28T12:33:50.213221Z",
     "iopub.status.idle": "2025-04-28T12:33:51.138333Z",
     "shell.execute_reply": "2025-04-28T12:33:51.135376Z"
    },
    "papermill": {
     "duration": 0.945568,
     "end_time": "2025-04-28T12:33:51.140327",
     "exception": false,
     "start_time": "2025-04-28T12:33:50.194759",
     "status": "completed"
    },
    "tags": []
   },
   "outputs": [],
   "source": [
    "remove_dir = os.path.join(train_dir, 'unsup')\n",
    "shutil.rmtree(remove_dir)"
   ]
  },
  {
   "cell_type": "markdown",
   "id": "22808b2f",
   "metadata": {
    "papermill": {
     "duration": 0.017336,
     "end_time": "2025-04-28T12:33:51.176173",
     "exception": false,
     "start_time": "2025-04-28T12:33:51.158837",
     "status": "completed"
    },
    "tags": []
   },
   "source": [
    "We will use the text_dataset_from_directory utility to create a labeled **[tf.data.Dataset](http://)**. [tf.data](http://) is a powerful collection of tools for working with data.\n",
    "\n",
    "IMDB dataset has already been divided into train and test set but lacks validation test."
   ]
  },
  {
   "cell_type": "code",
   "execution_count": 7,
   "id": "6bd7179d",
   "metadata": {
    "execution": {
     "iopub.execute_input": "2025-04-28T12:33:51.210575Z",
     "iopub.status.busy": "2025-04-28T12:33:51.210208Z",
     "iopub.status.idle": "2025-04-28T12:33:52.742105Z",
     "shell.execute_reply": "2025-04-28T12:33:52.740878Z"
    },
    "papermill": {
     "duration": 1.550697,
     "end_time": "2025-04-28T12:33:52.743845",
     "exception": false,
     "start_time": "2025-04-28T12:33:51.193148",
     "status": "completed"
    },
    "tags": []
   },
   "outputs": [
    {
     "name": "stdout",
     "output_type": "stream",
     "text": [
      "Found 25000 files belonging to 2 classes.\n",
      "Using 20000 files for training.\n"
     ]
    },
    {
     "name": "stderr",
     "output_type": "stream",
     "text": [
      "2025-04-28 12:33:52.648649: E external/local_xla/xla/stream_executor/cuda/cuda_driver.cc:152] failed call to cuInit: INTERNAL: CUDA error: Failed call to cuInit: UNKNOWN ERROR (303)\n"
     ]
    }
   ],
   "source": [
    "# Creating a validation set using an 80:20 split of the training data by using the validation_split argument\n",
    "batch_size = 32\n",
    "seed = 43\n",
    "\n",
    "raw_train_ds = tf.keras.utils.text_dataset_from_directory(\n",
    "    'aclImdb/train',\n",
    "    batch_size=batch_size,\n",
    "    validation_split=0.2,\n",
    "    subset='training',\n",
    "    seed=seed\n",
    ")"
   ]
  },
  {
   "cell_type": "markdown",
   "id": "9cd90a91",
   "metadata": {
    "papermill": {
     "duration": 0.016105,
     "end_time": "2025-04-28T12:33:52.777322",
     "exception": false,
     "start_time": "2025-04-28T12:33:52.761217",
     "status": "completed"
    },
    "tags": []
   },
   "source": [
    "Iterating over the dataset and printing out a few examples."
   ]
  },
  {
   "cell_type": "code",
   "execution_count": 8,
   "id": "89d2a62e",
   "metadata": {
    "execution": {
     "iopub.execute_input": "2025-04-28T12:33:52.811745Z",
     "iopub.status.busy": "2025-04-28T12:33:52.811144Z",
     "iopub.status.idle": "2025-04-28T12:33:52.881613Z",
     "shell.execute_reply": "2025-04-28T12:33:52.879914Z"
    },
    "papermill": {
     "duration": 0.089833,
     "end_time": "2025-04-28T12:33:52.883364",
     "exception": false,
     "start_time": "2025-04-28T12:33:52.793531",
     "status": "completed"
    },
    "tags": []
   },
   "outputs": [
    {
     "name": "stdout",
     "output_type": "stream",
     "text": [
      "Review b\"Difficult film to comment on, how do you say it's bad? Well it isn't, but then it's equally difficult to say it is good. What it is, is compelling viewing, it is as close as you will get to utter devastation without being there. It is the photographs of the tsunami approaching the coast of Thailand brought to life, you know you want to turn away but you have to watch.<br /><br />The Naudet brothers handle the commentary very well, even in the most tragic of circumstances, there view on something which is happening in another country neither panders nor insults. The facts are on the cellulose and little is needed for the viewer to understand or comprehend what is going on.<br /><br />You can't change history, and you should not want, this film stands as a testament to humanity in its darkest hour.\"\n",
      "Label 1\n",
      "Review b'I have seen over 1000 movies and this one stands out as one of the worst movies that I have ever seen. It is a shame that they had to associate this garbage to The Angels 1963 song \"My Boyfriend\\'s Back.\" If you have to make a choice between watching this movie and painful dental work, I would suggest the dental work.'\n",
      "Label 0\n",
      "Review b\"What a fantastic premise: A movie about the Berlin Airlift. It should have it all. Tragedy. Suspense. Comradeship. Rivals. Berliner Frauleins and tough US pilots. love and Tears. What we've got, is a film with none of the above. Heino Ferch tries to impersonate John Wayne or so, but he fails miserably. He acts so wooden, that at any given moment he should crack. He tries to play the tough guy, instead of being a tough guy! Why would Bettina Zimmermann's character fall in love with him? Cause they were throwing stones in a lake? Cause he brings her coal bricks? The SFX are very, very well done. Too much though. The hundreds or so planes over Berlin, look like an attack-fighter-formation-squadron rather than an organised airlift \\xc2\\x96 as it actually was. Interestingly enough, the White House, the Kremlin, and General Lucius D. Clays office seem all to be one and the same dark and dusty set. Notice the same drapes, hanging deep down the windows, as if a protective shield against nuclear fallout. Why is almost every scene INSIDE dark and dusty? By the way, GENERAL LUCIUS D. CLAY, comes across as a small time, insecure, looser General, who doest trust in his own noble idea the airlift. He was very much the opposite. So you combine all those individual blunders and the result is a film with that builds toward no passion, no suspense and no historic accuracy. Sad, it started out so promising\\xc2\\x85\"\n",
      "Label 0\n"
     ]
    }
   ],
   "source": [
    "for text_batch, label_batch in raw_train_ds.take(1):\n",
    "    for i in range(3):\n",
    "        print(\"Review\", text_batch.numpy()[i])\n",
    "        print(\"Label\", label_batch.numpy()[i])"
   ]
  },
  {
   "cell_type": "markdown",
   "id": "764e172e",
   "metadata": {
    "papermill": {
     "duration": 0.01661,
     "end_time": "2025-04-28T12:33:52.917727",
     "exception": false,
     "start_time": "2025-04-28T12:33:52.901117",
     "status": "completed"
    },
    "tags": []
   },
   "source": [
    "Checking which of the above reviews are positive or negative movie reviews, we can check the **class_names** property of the dataset"
   ]
  },
  {
   "cell_type": "code",
   "execution_count": 9,
   "id": "b8aa8e2e",
   "metadata": {
    "execution": {
     "iopub.execute_input": "2025-04-28T12:33:53.024814Z",
     "iopub.status.busy": "2025-04-28T12:33:53.023901Z",
     "iopub.status.idle": "2025-04-28T12:33:53.029658Z",
     "shell.execute_reply": "2025-04-28T12:33:53.028506Z"
    },
    "papermill": {
     "duration": 0.097124,
     "end_time": "2025-04-28T12:33:53.031315",
     "exception": false,
     "start_time": "2025-04-28T12:33:52.934191",
     "status": "completed"
    },
    "tags": []
   },
   "outputs": [
    {
     "name": "stdout",
     "output_type": "stream",
     "text": [
      "label 0  corresponds to neg\n",
      "label 1 corresponds to pos\n"
     ]
    }
   ],
   "source": [
    "print(\"label 0  corresponds to\", raw_train_ds.class_names[0])\n",
    "print(\"label 1 corresponds to\", raw_train_ds.class_names[1])"
   ]
  },
  {
   "cell_type": "raw",
   "id": "53890951",
   "metadata": {
    "papermill": {
     "duration": 0.016357,
     "end_time": "2025-04-28T12:33:53.064468",
     "exception": false,
     "start_time": "2025-04-28T12:33:53.048111",
     "status": "completed"
    },
    "tags": []
   },
   "source": [
    "Creating a validation and test dataset by using the remaining 5,000 movie reviews from the training set for validation."
   ]
  },
  {
   "cell_type": "code",
   "execution_count": 10,
   "id": "ae7ad383",
   "metadata": {
    "execution": {
     "iopub.execute_input": "2025-04-28T12:33:53.100824Z",
     "iopub.status.busy": "2025-04-28T12:33:53.099841Z",
     "iopub.status.idle": "2025-04-28T12:33:55.977285Z",
     "shell.execute_reply": "2025-04-28T12:33:55.976145Z"
    },
    "papermill": {
     "duration": 2.897646,
     "end_time": "2025-04-28T12:33:55.979329",
     "exception": false,
     "start_time": "2025-04-28T12:33:53.081683",
     "status": "completed"
    },
    "tags": []
   },
   "outputs": [
    {
     "name": "stdout",
     "output_type": "stream",
     "text": [
      "Found 25000 files belonging to 2 classes.\n",
      "Using 5000 files for validation.\n",
      "Found 25000 files belonging to 2 classes.\n"
     ]
    }
   ],
   "source": [
    "raw_val_ds = tf.keras.utils.text_dataset_from_directory(\n",
    "    'aclImdb/train',\n",
    "    batch_size=batch_size,\n",
    "    validation_split=0.2,\n",
    "    subset='validation',\n",
    "    seed=seed\n",
    ")\n",
    "\n",
    "raw_test_ds = tf.keras.utils.text_dataset_from_directory(\n",
    "    'aclImdb/test',\n",
    "    batch_size=batch_size\n",
    ")\n"
   ]
  },
  {
   "cell_type": "markdown",
   "id": "bcf87ca1",
   "metadata": {
    "papermill": {
     "duration": 0.017098,
     "end_time": "2025-04-28T12:33:56.013858",
     "exception": false,
     "start_time": "2025-04-28T12:33:55.996760",
     "status": "completed"
    },
    "tags": []
   },
   "source": [
    "## Preparing Dataset for Training\n",
    "\n"
   ]
  },
  {
   "cell_type": "markdown",
   "id": "8e3d92dd",
   "metadata": {
    "papermill": {
     "duration": 0.016594,
     "end_time": "2025-04-28T12:33:56.047493",
     "exception": false,
     "start_time": "2025-04-28T12:33:56.030899",
     "status": "completed"
    },
    "tags": []
   },
   "source": [
    "We use [tf.keras.layers.TextVectorization](http://) layer.\n",
    "\n",
    "Standardization refers to preprocessing the text, typically to remove punctuation or HTML elements to simplify the dataset. Tokenization refers to splitting strings into tokens(e.g. splitting a sentence into individual words).\n",
    "\n",
    "Vectorization refers to converting tokens into numbers so they can be fed into a neural network"
   ]
  },
  {
   "cell_type": "code",
   "execution_count": 11,
   "id": "df20d8d8",
   "metadata": {
    "execution": {
     "iopub.execute_input": "2025-04-28T12:33:56.083257Z",
     "iopub.status.busy": "2025-04-28T12:33:56.082903Z",
     "iopub.status.idle": "2025-04-28T12:33:56.088512Z",
     "shell.execute_reply": "2025-04-28T12:33:56.087417Z"
    },
    "papermill": {
     "duration": 0.025131,
     "end_time": "2025-04-28T12:33:56.090096",
     "exception": false,
     "start_time": "2025-04-28T12:33:56.064965",
     "status": "completed"
    },
    "tags": []
   },
   "outputs": [],
   "source": [
    "# custom standardization function to remove the HTML\n",
    "def custom_standardization(input_data):\n",
    "    lowercase = tf.strings.lower(input_data)\n",
    "    stripped_html = tf.strings.regex_replace(lowercase, '<br />', ' ')\n",
    "    return tf.strings.regex_replace(stripped_html,\n",
    "                                   '[%s]' % re.escape(string.punctuation),\n",
    "                                    '')"
   ]
  },
  {
   "cell_type": "code",
   "execution_count": 12,
   "id": "70017e01",
   "metadata": {
    "execution": {
     "iopub.execute_input": "2025-04-28T12:33:56.124912Z",
     "iopub.status.busy": "2025-04-28T12:33:56.124619Z",
     "iopub.status.idle": "2025-04-28T12:33:56.139655Z",
     "shell.execute_reply": "2025-04-28T12:33:56.138582Z"
    },
    "papermill": {
     "duration": 0.034456,
     "end_time": "2025-04-28T12:33:56.141391",
     "exception": false,
     "start_time": "2025-04-28T12:33:56.106935",
     "status": "completed"
    },
    "tags": []
   },
   "outputs": [],
   "source": [
    "max_features = 10000\n",
    "sequence_length = 250\n",
    "\n",
    "vectorize_layer = layers.TextVectorization(\n",
    "    standardize=custom_standardization,\n",
    "    max_tokens=max_features,\n",
    "    output_mode='int',\n",
    "    output_sequence_length=sequence_length\n",
    ")"
   ]
  },
  {
   "cell_type": "code",
   "execution_count": 13,
   "id": "fb0c78ed",
   "metadata": {
    "execution": {
     "iopub.execute_input": "2025-04-28T12:33:56.177359Z",
     "iopub.status.busy": "2025-04-28T12:33:56.176976Z",
     "iopub.status.idle": "2025-04-28T12:34:02.303206Z",
     "shell.execute_reply": "2025-04-28T12:34:02.302032Z"
    },
    "papermill": {
     "duration": 6.146788,
     "end_time": "2025-04-28T12:34:02.305236",
     "exception": false,
     "start_time": "2025-04-28T12:33:56.158448",
     "status": "completed"
    },
    "tags": []
   },
   "outputs": [],
   "source": [
    "# Making a text_only dataset(without labels), then call adapt\n",
    "train_text = raw_train_ds.map(lambda x, y,: x)\n",
    "vectorize_layer.adapt(train_text)"
   ]
  },
  {
   "cell_type": "code",
   "execution_count": 14,
   "id": "2cf83b35",
   "metadata": {
    "execution": {
     "iopub.execute_input": "2025-04-28T12:34:02.341021Z",
     "iopub.status.busy": "2025-04-28T12:34:02.340636Z",
     "iopub.status.idle": "2025-04-28T12:34:02.346144Z",
     "shell.execute_reply": "2025-04-28T12:34:02.345104Z"
    },
    "papermill": {
     "duration": 0.025785,
     "end_time": "2025-04-28T12:34:02.348113",
     "exception": false,
     "start_time": "2025-04-28T12:34:02.322328",
     "status": "completed"
    },
    "tags": []
   },
   "outputs": [],
   "source": [
    "# Creating a function to see the result of using this layer to preprocess some data\n",
    "def vectorize_text(text, label):\n",
    "    text = tf.expand_dims(text, -1)\n",
    "    return vectorize_layer(text), label"
   ]
  },
  {
   "cell_type": "code",
   "execution_count": 15,
   "id": "d5a80c66",
   "metadata": {
    "execution": {
     "iopub.execute_input": "2025-04-28T12:34:02.385215Z",
     "iopub.status.busy": "2025-04-28T12:34:02.384838Z",
     "iopub.status.idle": "2025-04-28T12:34:02.448945Z",
     "shell.execute_reply": "2025-04-28T12:34:02.447662Z"
    },
    "papermill": {
     "duration": 0.085436,
     "end_time": "2025-04-28T12:34:02.450890",
     "exception": false,
     "start_time": "2025-04-28T12:34:02.365454",
     "status": "completed"
    },
    "tags": []
   },
   "outputs": [
    {
     "name": "stdout",
     "output_type": "stream",
     "text": [
      "Review tf.Tensor(b'Melissa Sagemiller,Wes Bentley,Eliza Dushku and Casey Affleck play young students at Middleton College in the town of Middleton.The four teenagers form two love triangles.One night during an ominous full moon they drive and argue along a slippery and twisting mountain road.Not looking properly they careen into another car and one or more of them are killed.The ghostly nightmare begins...Pretty lousy and politically correct horror flick without gore and nudity.It\\'s obviously influenced by \"Carnival of Souls\".The cinematography is decent,unfortunately there is zero suspense.4 out of 10-just another instantly forgettable teeny-bopper trash.', shape=(), dtype=string)\n",
      "Label neg\n",
      "Vectorized review (<tf.Tensor: shape=(1, 250), dtype=int64, numpy=\n",
      "array([[5753,    1,    1,    1,    3,    1, 6918,  289,  180, 1436,   30,\n",
      "           1, 1152,    8,    2,  499,    5,    1,  718, 2318,  809,  104,\n",
      "         111,    1,  308,  306,   33, 5912,  378, 1782,   34, 1426,    3,\n",
      "        3665,  352,    4,    1,    3,    1, 2545,    1,  290, 2863,   34,\n",
      "           1,   79,  153,  504,    3,   28,   41,   50,    5,   93,   23,\n",
      "           1, 8272, 1702,    1, 2314,    3, 4223, 2182,  199,  500,  203,\n",
      "         654,    3,    1,  527, 3948,   32,    1,    5,    1,  608,    7,\n",
      "           1,   47,    7, 1554,    1,   45,    5,    1,  153, 3335, 2225,\n",
      "           1, 1191,    0,    0,    0,    0,    0,    0,    0,    0,    0,\n",
      "           0,    0,    0,    0,    0,    0,    0,    0,    0,    0,    0,\n",
      "           0,    0,    0,    0,    0,    0,    0,    0,    0,    0,    0,\n",
      "           0,    0,    0,    0,    0,    0,    0,    0,    0,    0,    0,\n",
      "           0,    0,    0,    0,    0,    0,    0,    0,    0,    0,    0,\n",
      "           0,    0,    0,    0,    0,    0,    0,    0,    0,    0,    0,\n",
      "           0,    0,    0,    0,    0,    0,    0,    0,    0,    0,    0,\n",
      "           0,    0,    0,    0,    0,    0,    0,    0,    0,    0,    0,\n",
      "           0,    0,    0,    0,    0,    0,    0,    0,    0,    0,    0,\n",
      "           0,    0,    0,    0,    0,    0,    0,    0,    0,    0,    0,\n",
      "           0,    0,    0,    0,    0,    0,    0,    0,    0,    0,    0,\n",
      "           0,    0,    0,    0,    0,    0,    0,    0,    0,    0,    0,\n",
      "           0,    0,    0,    0,    0,    0,    0,    0,    0,    0,    0,\n",
      "           0,    0,    0,    0,    0,    0,    0,    0,    0,    0,    0,\n",
      "           0,    0,    0,    0,    0,    0,    0,    0]])>, <tf.Tensor: shape=(), dtype=int32, numpy=0>)\n"
     ]
    }
   ],
   "source": [
    "# retrieving a batch (of 32 reviews and labels) from the dataset\n",
    "text_batch, label_batch = next(iter(raw_train_ds))\n",
    "first_review, first_label = text_batch[0], label_batch[0]\n",
    "print(\"Review\", first_review)\n",
    "print(\"Label\", raw_train_ds.class_names[first_label])\n",
    "print(\"Vectorized review\", vectorize_text(first_review, first_label))"
   ]
  },
  {
   "cell_type": "markdown",
   "id": "d7eb4c1b",
   "metadata": {
    "papermill": {
     "duration": 0.018151,
     "end_time": "2025-04-28T12:34:02.486834",
     "exception": false,
     "start_time": "2025-04-28T12:34:02.468683",
     "status": "completed"
    },
    "tags": []
   },
   "source": [
    "# Each token has been replaced by an integer.\n",
    "You can lookup the token(string) that each integer corresponds to by calling [.get_vocabulary()](http://) on the layer."
   ]
  },
  {
   "cell_type": "code",
   "execution_count": 16,
   "id": "c616752d",
   "metadata": {
    "execution": {
     "iopub.execute_input": "2025-04-28T12:34:02.522527Z",
     "iopub.status.busy": "2025-04-28T12:34:02.522172Z",
     "iopub.status.idle": "2025-04-28T12:34:02.606803Z",
     "shell.execute_reply": "2025-04-28T12:34:02.605511Z"
    },
    "papermill": {
     "duration": 0.104258,
     "end_time": "2025-04-28T12:34:02.608603",
     "exception": false,
     "start_time": "2025-04-28T12:34:02.504345",
     "status": "completed"
    },
    "tags": []
   },
   "outputs": [
    {
     "name": "stdout",
     "output_type": "stream",
     "text": [
      "1287 ---->  twists\n",
      "217 ---->  almost\n",
      "Vocabulary size: 10000\n"
     ]
    }
   ],
   "source": [
    "print(\"1287 ----> \", vectorize_layer.get_vocabulary()[1287])\n",
    "print(\"217 ----> \", vectorize_layer.get_vocabulary()[217])\n",
    "print('Vocabulary size: {}'.format(len(vectorize_layer.get_vocabulary())))"
   ]
  },
  {
   "cell_type": "code",
   "execution_count": 17,
   "id": "1859f5d4",
   "metadata": {
    "execution": {
     "iopub.execute_input": "2025-04-28T12:34:02.645453Z",
     "iopub.status.busy": "2025-04-28T12:34:02.645125Z",
     "iopub.status.idle": "2025-04-28T12:34:03.067037Z",
     "shell.execute_reply": "2025-04-28T12:34:03.066143Z"
    },
    "papermill": {
     "duration": 0.442449,
     "end_time": "2025-04-28T12:34:03.068809",
     "exception": false,
     "start_time": "2025-04-28T12:34:02.626360",
     "status": "completed"
    },
    "tags": []
   },
   "outputs": [],
   "source": [
    "# Applying the TextVectorization layer created earlier to the train, validation, and test dataset.\n",
    "train_ds = raw_train_ds.map(vectorize_text)\n",
    "val_ds = raw_val_ds.map(vectorize_text)\n",
    "test_ds = raw_val_ds.map(vectorize_text)"
   ]
  },
  {
   "cell_type": "markdown",
   "id": "38d78112",
   "metadata": {
    "papermill": {
     "duration": 0.016913,
     "end_time": "2025-04-28T12:34:03.103466",
     "exception": false,
     "start_time": "2025-04-28T12:34:03.086553",
     "status": "completed"
    },
    "tags": []
   },
   "source": [
    "# Configuring the dataset for performance\n",
    "\n",
    "**.cache()** keeps data in memory after it's loaded off disk. This ensures the dataset does not become a bottleneck while training the model. if the dataset is too large to fit into memory, you can also use this method to create a performant on-disk cache, which is more efficient to read than many small files.\n",
    "\n",
    "**.prefetch()** overlaps data preprocessing and model execution while training."
   ]
  },
  {
   "cell_type": "code",
   "execution_count": 18,
   "id": "101a9769",
   "metadata": {
    "execution": {
     "iopub.execute_input": "2025-04-28T12:34:03.139844Z",
     "iopub.status.busy": "2025-04-28T12:34:03.139444Z",
     "iopub.status.idle": "2025-04-28T12:34:03.158648Z",
     "shell.execute_reply": "2025-04-28T12:34:03.157761Z"
    },
    "papermill": {
     "duration": 0.039546,
     "end_time": "2025-04-28T12:34:03.160668",
     "exception": false,
     "start_time": "2025-04-28T12:34:03.121122",
     "status": "completed"
    },
    "tags": []
   },
   "outputs": [],
   "source": [
    "AUTOTUNE = tf.data.AUTOTUNE\n",
    "\n",
    "train_ds = train_ds.cache().prefetch(buffer_size=AUTOTUNE)\n",
    "val_ds = val_ds.cache().prefetch(buffer_size=AUTOTUNE)\n",
    "test_ds = test_ds.cache().prefetch(buffer_size=AUTOTUNE)"
   ]
  },
  {
   "cell_type": "markdown",
   "id": "c7225c6b",
   "metadata": {
    "papermill": {
     "duration": 0.017693,
     "end_time": "2025-04-28T12:34:03.196634",
     "exception": false,
     "start_time": "2025-04-28T12:34:03.178941",
     "status": "completed"
    },
    "tags": []
   },
   "source": [
    "## Creating the Model"
   ]
  },
  {
   "cell_type": "code",
   "execution_count": 19,
   "id": "6a52980c",
   "metadata": {
    "execution": {
     "iopub.execute_input": "2025-04-28T12:34:03.232986Z",
     "iopub.status.busy": "2025-04-28T12:34:03.232691Z",
     "iopub.status.idle": "2025-04-28T12:34:03.262923Z",
     "shell.execute_reply": "2025-04-28T12:34:03.261847Z"
    },
    "papermill": {
     "duration": 0.05002,
     "end_time": "2025-04-28T12:34:03.264711",
     "exception": false,
     "start_time": "2025-04-28T12:34:03.214691",
     "status": "completed"
    },
    "tags": []
   },
   "outputs": [
    {
     "data": {
      "text/html": [
       "<pre style=\"white-space:pre;overflow-x:auto;line-height:normal;font-family:Menlo,'DejaVu Sans Mono',consolas,'Courier New',monospace\"><span style=\"font-weight: bold\">Model: \"sequential\"</span>\n",
       "</pre>\n"
      ],
      "text/plain": [
       "\u001b[1mModel: \"sequential\"\u001b[0m\n"
      ]
     },
     "metadata": {},
     "output_type": "display_data"
    },
    {
     "data": {
      "text/html": [
       "<pre style=\"white-space:pre;overflow-x:auto;line-height:normal;font-family:Menlo,'DejaVu Sans Mono',consolas,'Courier New',monospace\">┏━━━━━━━━━━━━━━━━━━━━━━━━━━━━━━━━━━━━━━┳━━━━━━━━━━━━━━━━━━━━━━━━━━━━━┳━━━━━━━━━━━━━━━━━┓\n",
       "┃<span style=\"font-weight: bold\"> Layer (type)                         </span>┃<span style=\"font-weight: bold\"> Output Shape                </span>┃<span style=\"font-weight: bold\">         Param # </span>┃\n",
       "┡━━━━━━━━━━━━━━━━━━━━━━━━━━━━━━━━━━━━━━╇━━━━━━━━━━━━━━━━━━━━━━━━━━━━━╇━━━━━━━━━━━━━━━━━┩\n",
       "│ embedding (<span style=\"color: #0087ff; text-decoration-color: #0087ff\">Embedding</span>)                │ ?                           │     <span style=\"color: #00af00; text-decoration-color: #00af00\">0</span> (unbuilt) │\n",
       "├──────────────────────────────────────┼─────────────────────────────┼─────────────────┤\n",
       "│ dropout (<span style=\"color: #0087ff; text-decoration-color: #0087ff\">Dropout</span>)                    │ ?                           │     <span style=\"color: #00af00; text-decoration-color: #00af00\">0</span> (unbuilt) │\n",
       "├──────────────────────────────────────┼─────────────────────────────┼─────────────────┤\n",
       "│ global_average_pooling1d             │ ?                           │     <span style=\"color: #00af00; text-decoration-color: #00af00\">0</span> (unbuilt) │\n",
       "│ (<span style=\"color: #0087ff; text-decoration-color: #0087ff\">GlobalAveragePooling1D</span>)             │                             │                 │\n",
       "├──────────────────────────────────────┼─────────────────────────────┼─────────────────┤\n",
       "│ dropout_1 (<span style=\"color: #0087ff; text-decoration-color: #0087ff\">Dropout</span>)                  │ ?                           │     <span style=\"color: #00af00; text-decoration-color: #00af00\">0</span> (unbuilt) │\n",
       "├──────────────────────────────────────┼─────────────────────────────┼─────────────────┤\n",
       "│ dense (<span style=\"color: #0087ff; text-decoration-color: #0087ff\">Dense</span>)                        │ ?                           │     <span style=\"color: #00af00; text-decoration-color: #00af00\">0</span> (unbuilt) │\n",
       "└──────────────────────────────────────┴─────────────────────────────┴─────────────────┘\n",
       "</pre>\n"
      ],
      "text/plain": [
       "┏━━━━━━━━━━━━━━━━━━━━━━━━━━━━━━━━━━━━━━┳━━━━━━━━━━━━━━━━━━━━━━━━━━━━━┳━━━━━━━━━━━━━━━━━┓\n",
       "┃\u001b[1m \u001b[0m\u001b[1mLayer (type)                        \u001b[0m\u001b[1m \u001b[0m┃\u001b[1m \u001b[0m\u001b[1mOutput Shape               \u001b[0m\u001b[1m \u001b[0m┃\u001b[1m \u001b[0m\u001b[1m        Param #\u001b[0m\u001b[1m \u001b[0m┃\n",
       "┡━━━━━━━━━━━━━━━━━━━━━━━━━━━━━━━━━━━━━━╇━━━━━━━━━━━━━━━━━━━━━━━━━━━━━╇━━━━━━━━━━━━━━━━━┩\n",
       "│ embedding (\u001b[38;5;33mEmbedding\u001b[0m)                │ ?                           │     \u001b[38;5;34m0\u001b[0m (unbuilt) │\n",
       "├──────────────────────────────────────┼─────────────────────────────┼─────────────────┤\n",
       "│ dropout (\u001b[38;5;33mDropout\u001b[0m)                    │ ?                           │     \u001b[38;5;34m0\u001b[0m (unbuilt) │\n",
       "├──────────────────────────────────────┼─────────────────────────────┼─────────────────┤\n",
       "│ global_average_pooling1d             │ ?                           │     \u001b[38;5;34m0\u001b[0m (unbuilt) │\n",
       "│ (\u001b[38;5;33mGlobalAveragePooling1D\u001b[0m)             │                             │                 │\n",
       "├──────────────────────────────────────┼─────────────────────────────┼─────────────────┤\n",
       "│ dropout_1 (\u001b[38;5;33mDropout\u001b[0m)                  │ ?                           │     \u001b[38;5;34m0\u001b[0m (unbuilt) │\n",
       "├──────────────────────────────────────┼─────────────────────────────┼─────────────────┤\n",
       "│ dense (\u001b[38;5;33mDense\u001b[0m)                        │ ?                           │     \u001b[38;5;34m0\u001b[0m (unbuilt) │\n",
       "└──────────────────────────────────────┴─────────────────────────────┴─────────────────┘\n"
      ]
     },
     "metadata": {},
     "output_type": "display_data"
    },
    {
     "data": {
      "text/html": [
       "<pre style=\"white-space:pre;overflow-x:auto;line-height:normal;font-family:Menlo,'DejaVu Sans Mono',consolas,'Courier New',monospace\"><span style=\"font-weight: bold\"> Total params: </span><span style=\"color: #00af00; text-decoration-color: #00af00\">0</span> (0.00 B)\n",
       "</pre>\n"
      ],
      "text/plain": [
       "\u001b[1m Total params: \u001b[0m\u001b[38;5;34m0\u001b[0m (0.00 B)\n"
      ]
     },
     "metadata": {},
     "output_type": "display_data"
    },
    {
     "data": {
      "text/html": [
       "<pre style=\"white-space:pre;overflow-x:auto;line-height:normal;font-family:Menlo,'DejaVu Sans Mono',consolas,'Courier New',monospace\"><span style=\"font-weight: bold\"> Trainable params: </span><span style=\"color: #00af00; text-decoration-color: #00af00\">0</span> (0.00 B)\n",
       "</pre>\n"
      ],
      "text/plain": [
       "\u001b[1m Trainable params: \u001b[0m\u001b[38;5;34m0\u001b[0m (0.00 B)\n"
      ]
     },
     "metadata": {},
     "output_type": "display_data"
    },
    {
     "data": {
      "text/html": [
       "<pre style=\"white-space:pre;overflow-x:auto;line-height:normal;font-family:Menlo,'DejaVu Sans Mono',consolas,'Courier New',monospace\"><span style=\"font-weight: bold\"> Non-trainable params: </span><span style=\"color: #00af00; text-decoration-color: #00af00\">0</span> (0.00 B)\n",
       "</pre>\n"
      ],
      "text/plain": [
       "\u001b[1m Non-trainable params: \u001b[0m\u001b[38;5;34m0\u001b[0m (0.00 B)\n"
      ]
     },
     "metadata": {},
     "output_type": "display_data"
    }
   ],
   "source": [
    "# Creating the model\n",
    "embedding_dim = 16\n",
    "\n",
    "model = tf.keras.Sequential([\n",
    "    layers.Embedding(max_features, embedding_dim),\n",
    "    layers.Dropout(0.2),\n",
    "    layers.GlobalAveragePooling1D(),\n",
    "    layers.Dropout(0.2),\n",
    "    layers.Dense(1, activation='sigmoid')\n",
    "])\n",
    "\n",
    "model.summary()"
   ]
  },
  {
   "cell_type": "markdown",
   "id": "89105bd3",
   "metadata": {
    "papermill": {
     "duration": 0.017256,
     "end_time": "2025-04-28T12:34:03.300824",
     "exception": false,
     "start_time": "2025-04-28T12:34:03.283568",
     "status": "completed"
    },
    "tags": []
   },
   "source": [
    "The layers are stacked sequentially to build the classifier:\n",
    "\n",
    "1. The first layer is an **Embedding** layer. This layer takes the integer-encoded reviews and looks up an embedding vector for\n",
    "   each word-index. These vectors are learned as the model trains. The vectors add a dimension to the output array. The resulting\n",
    "   dimensions are: **(batch, sequence, embedding)**. To learn more about embeddings, check out the [Word embeddings](http://) \n",
    "   tutorial.\n",
    "\n",
    "2. Next, a **GlobalAveragePooling1D** layer returns a fixed-length output vector for each example by averaging over the sequence\n",
    "   dimension. This allows the model to handle input of variable length, in the simplest way possible.\n",
    "\n",
    "3. The last layer is densely connected with a single output node.\n",
    "\n",
    "\n",
    "## Loss function and optimizer\n",
    "A model needs a loss function and an optimizer for training. Since this is a binary classification problem and the model outputs a probability (a single-unit layer with a sigmoid activation), you'll use [losses.BinaryCrossentropy](http://) loss function."
   ]
  },
  {
   "cell_type": "code",
   "execution_count": 20,
   "id": "8b851958",
   "metadata": {
    "execution": {
     "iopub.execute_input": "2025-04-28T12:34:03.337931Z",
     "iopub.status.busy": "2025-04-28T12:34:03.337570Z",
     "iopub.status.idle": "2025-04-28T12:34:03.363498Z",
     "shell.execute_reply": "2025-04-28T12:34:03.362558Z"
    },
    "papermill": {
     "duration": 0.046581,
     "end_time": "2025-04-28T12:34:03.365329",
     "exception": false,
     "start_time": "2025-04-28T12:34:03.318748",
     "status": "completed"
    },
    "tags": []
   },
   "outputs": [],
   "source": [
    "# Configuring the model to use an optimizer and a loss function\n",
    "model.compile(loss=losses.BinaryCrossentropy(),\n",
    "             optimizer='adam',\n",
    "             metrics=[tf.metrics.BinaryAccuracy(threshold=0.5)])"
   ]
  },
  {
   "cell_type": "markdown",
   "id": "191314ef",
   "metadata": {
    "papermill": {
     "duration": 0.017508,
     "end_time": "2025-04-28T12:34:03.400532",
     "exception": false,
     "start_time": "2025-04-28T12:34:03.383024",
     "status": "completed"
    },
    "tags": []
   },
   "source": [
    "## Training the model"
   ]
  },
  {
   "cell_type": "code",
   "execution_count": 21,
   "id": "87c70c4d",
   "metadata": {
    "execution": {
     "iopub.execute_input": "2025-04-28T12:34:03.438474Z",
     "iopub.status.busy": "2025-04-28T12:34:03.438113Z",
     "iopub.status.idle": "2025-04-28T12:34:56.643296Z",
     "shell.execute_reply": "2025-04-28T12:34:56.642087Z"
    },
    "papermill": {
     "duration": 53.227212,
     "end_time": "2025-04-28T12:34:56.645078",
     "exception": false,
     "start_time": "2025-04-28T12:34:03.417866",
     "status": "completed"
    },
    "tags": []
   },
   "outputs": [
    {
     "name": "stdout",
     "output_type": "stream",
     "text": [
      "Epoch 1/15\n",
      "\u001b[1m625/625\u001b[0m \u001b[32m━━━━━━━━━━━━━━━━━━━━\u001b[0m\u001b[37m\u001b[0m \u001b[1m7s\u001b[0m 7ms/step - binary_accuracy: 0.6126 - loss: 0.6792 - val_binary_accuracy: 0.7390 - val_loss: 0.6028\n",
      "Epoch 2/15\n",
      "\u001b[1m625/625\u001b[0m \u001b[32m━━━━━━━━━━━━━━━━━━━━\u001b[0m\u001b[37m\u001b[0m \u001b[1m4s\u001b[0m 6ms/step - binary_accuracy: 0.7675 - loss: 0.5691 - val_binary_accuracy: 0.8140 - val_loss: 0.4880\n",
      "Epoch 3/15\n",
      "\u001b[1m625/625\u001b[0m \u001b[32m━━━━━━━━━━━━━━━━━━━━\u001b[0m\u001b[37m\u001b[0m \u001b[1m4s\u001b[0m 6ms/step - binary_accuracy: 0.8300 - loss: 0.4572 - val_binary_accuracy: 0.8348 - val_loss: 0.4213\n",
      "Epoch 4/15\n",
      "\u001b[1m625/625\u001b[0m \u001b[32m━━━━━━━━━━━━━━━━━━━━\u001b[0m\u001b[37m\u001b[0m \u001b[1m3s\u001b[0m 5ms/step - binary_accuracy: 0.8574 - loss: 0.3886 - val_binary_accuracy: 0.8430 - val_loss: 0.3830\n",
      "Epoch 5/15\n",
      "\u001b[1m625/625\u001b[0m \u001b[32m━━━━━━━━━━━━━━━━━━━━\u001b[0m\u001b[37m\u001b[0m \u001b[1m3s\u001b[0m 5ms/step - binary_accuracy: 0.8690 - loss: 0.3444 - val_binary_accuracy: 0.8556 - val_loss: 0.3546\n",
      "Epoch 6/15\n",
      "\u001b[1m625/625\u001b[0m \u001b[32m━━━━━━━━━━━━━━━━━━━━\u001b[0m\u001b[37m\u001b[0m \u001b[1m3s\u001b[0m 5ms/step - binary_accuracy: 0.8801 - loss: 0.3145 - val_binary_accuracy: 0.8606 - val_loss: 0.3369\n",
      "Epoch 7/15\n",
      "\u001b[1m625/625\u001b[0m \u001b[32m━━━━━━━━━━━━━━━━━━━━\u001b[0m\u001b[37m\u001b[0m \u001b[1m3s\u001b[0m 5ms/step - binary_accuracy: 0.8896 - loss: 0.2900 - val_binary_accuracy: 0.8688 - val_loss: 0.3248\n",
      "Epoch 8/15\n",
      "\u001b[1m625/625\u001b[0m \u001b[32m━━━━━━━━━━━━━━━━━━━━\u001b[0m\u001b[37m\u001b[0m \u001b[1m4s\u001b[0m 6ms/step - binary_accuracy: 0.8978 - loss: 0.2693 - val_binary_accuracy: 0.8732 - val_loss: 0.3151\n",
      "Epoch 9/15\n",
      "\u001b[1m625/625\u001b[0m \u001b[32m━━━━━━━━━━━━━━━━━━━━\u001b[0m\u001b[37m\u001b[0m \u001b[1m3s\u001b[0m 5ms/step - binary_accuracy: 0.9052 - loss: 0.2537 - val_binary_accuracy: 0.8770 - val_loss: 0.3087\n",
      "Epoch 10/15\n",
      "\u001b[1m625/625\u001b[0m \u001b[32m━━━━━━━━━━━━━━━━━━━━\u001b[0m\u001b[37m\u001b[0m \u001b[1m3s\u001b[0m 5ms/step - binary_accuracy: 0.9116 - loss: 0.2391 - val_binary_accuracy: 0.8774 - val_loss: 0.3054\n",
      "Epoch 11/15\n",
      "\u001b[1m625/625\u001b[0m \u001b[32m━━━━━━━━━━━━━━━━━━━━\u001b[0m\u001b[37m\u001b[0m \u001b[1m3s\u001b[0m 5ms/step - binary_accuracy: 0.9156 - loss: 0.2259 - val_binary_accuracy: 0.8804 - val_loss: 0.3014\n",
      "Epoch 12/15\n",
      "\u001b[1m625/625\u001b[0m \u001b[32m━━━━━━━━━━━━━━━━━━━━\u001b[0m\u001b[37m\u001b[0m \u001b[1m3s\u001b[0m 5ms/step - binary_accuracy: 0.9184 - loss: 0.2155 - val_binary_accuracy: 0.8812 - val_loss: 0.3013\n",
      "Epoch 13/15\n",
      "\u001b[1m625/625\u001b[0m \u001b[32m━━━━━━━━━━━━━━━━━━━━\u001b[0m\u001b[37m\u001b[0m \u001b[1m3s\u001b[0m 5ms/step - binary_accuracy: 0.9257 - loss: 0.2039 - val_binary_accuracy: 0.8802 - val_loss: 0.3011\n",
      "Epoch 14/15\n",
      "\u001b[1m625/625\u001b[0m \u001b[32m━━━━━━━━━━━━━━━━━━━━\u001b[0m\u001b[37m\u001b[0m \u001b[1m3s\u001b[0m 5ms/step - binary_accuracy: 0.9273 - loss: 0.1967 - val_binary_accuracy: 0.8802 - val_loss: 0.3013\n",
      "Epoch 15/15\n",
      "\u001b[1m625/625\u001b[0m \u001b[32m━━━━━━━━━━━━━━━━━━━━\u001b[0m\u001b[37m\u001b[0m \u001b[1m3s\u001b[0m 5ms/step - binary_accuracy: 0.9328 - loss: 0.1864 - val_binary_accuracy: 0.8820 - val_loss: 0.3020\n"
     ]
    }
   ],
   "source": [
    "# Passing the dataset object to the fit method\n",
    "epochs = 15\n",
    "history = model.fit(\n",
    "    train_ds,\n",
    "    validation_data=val_ds,\n",
    "    epochs=epochs\n",
    ")"
   ]
  },
  {
   "cell_type": "markdown",
   "id": "3c90db10",
   "metadata": {
    "papermill": {
     "duration": 0.065303,
     "end_time": "2025-04-28T12:34:56.776137",
     "exception": false,
     "start_time": "2025-04-28T12:34:56.710834",
     "status": "completed"
    },
    "tags": []
   },
   "source": [
    "## Evaluating the model\n",
    "Two values i.e. loss and accuracy, will be returned. A lower value for loss error is better."
   ]
  },
  {
   "cell_type": "code",
   "execution_count": 22,
   "id": "48d4df4f",
   "metadata": {
    "execution": {
     "iopub.execute_input": "2025-04-28T12:34:56.907696Z",
     "iopub.status.busy": "2025-04-28T12:34:56.907397Z",
     "iopub.status.idle": "2025-04-28T12:34:57.394808Z",
     "shell.execute_reply": "2025-04-28T12:34:57.393427Z"
    },
    "papermill": {
     "duration": 0.554786,
     "end_time": "2025-04-28T12:34:57.396865",
     "exception": false,
     "start_time": "2025-04-28T12:34:56.842079",
     "status": "completed"
    },
    "tags": []
   },
   "outputs": [
    {
     "name": "stdout",
     "output_type": "stream",
     "text": [
      "\u001b[1m157/157\u001b[0m \u001b[32m━━━━━━━━━━━━━━━━━━━━\u001b[0m\u001b[37m\u001b[0m \u001b[1m0s\u001b[0m 3ms/step - binary_accuracy: 0.8798 - loss: 0.3067\n",
      "Loss:  0.30199959874153137\n",
      "Accuracy:  0.8820000290870667\n"
     ]
    }
   ],
   "source": [
    "loss, accuracy = model.evaluate(test_ds)\n",
    "\n",
    "print(\"Loss: \", loss)\n",
    "print(\"Accuracy: \", accuracy)"
   ]
  },
  {
   "cell_type": "markdown",
   "id": "41d7c86c",
   "metadata": {
    "papermill": {
     "duration": 0.067151,
     "end_time": "2025-04-28T12:34:57.531186",
     "exception": false,
     "start_time": "2025-04-28T12:34:57.464035",
     "status": "completed"
    },
    "tags": []
   },
   "source": [
    "This approach achieves an accuracy of approximately 88%"
   ]
  },
  {
   "cell_type": "markdown",
   "id": "9680a252",
   "metadata": {
    "papermill": {
     "duration": 0.066105,
     "end_time": "2025-04-28T12:34:57.662596",
     "exception": false,
     "start_time": "2025-04-28T12:34:57.596491",
     "status": "completed"
    },
    "tags": []
   },
   "source": [
    "## Creating a plot of accuracy and loss over time\n",
    "\n",
    "**model.fit()** returns a **History** object that contains a dictionary with everything that happened during training."
   ]
  },
  {
   "cell_type": "code",
   "execution_count": 23,
   "id": "d61fe52a",
   "metadata": {
    "execution": {
     "iopub.execute_input": "2025-04-28T12:34:57.792699Z",
     "iopub.status.busy": "2025-04-28T12:34:57.792241Z",
     "iopub.status.idle": "2025-04-28T12:34:57.798171Z",
     "shell.execute_reply": "2025-04-28T12:34:57.797323Z"
    },
    "papermill": {
     "duration": 0.072899,
     "end_time": "2025-04-28T12:34:57.799762",
     "exception": false,
     "start_time": "2025-04-28T12:34:57.726863",
     "status": "completed"
    },
    "tags": []
   },
   "outputs": [
    {
     "data": {
      "text/plain": [
       "dict_keys(['binary_accuracy', 'loss', 'val_binary_accuracy', 'val_loss'])"
      ]
     },
     "execution_count": 23,
     "metadata": {},
     "output_type": "execute_result"
    }
   ],
   "source": [
    "history_dict =  history.history\n",
    "history_dict.keys()"
   ]
  },
  {
   "cell_type": "markdown",
   "id": "b3e5b362",
   "metadata": {
    "papermill": {
     "duration": 0.066394,
     "end_time": "2025-04-28T12:34:57.933096",
     "exception": false,
     "start_time": "2025-04-28T12:34:57.866702",
     "status": "completed"
    },
    "tags": []
   },
   "source": [
    "These four entries: one for each monitored metric during training and validation. You can use these to plot the training and validation. These entries are used to plot the training and validation loss for comparison, as well as the training and validation accuracy:"
   ]
  },
  {
   "cell_type": "code",
   "execution_count": 24,
   "id": "045b6950",
   "metadata": {
    "execution": {
     "iopub.execute_input": "2025-04-28T12:34:58.064659Z",
     "iopub.status.busy": "2025-04-28T12:34:58.064258Z",
     "iopub.status.idle": "2025-04-28T12:34:58.353193Z",
     "shell.execute_reply": "2025-04-28T12:34:58.352111Z"
    },
    "papermill": {
     "duration": 0.356621,
     "end_time": "2025-04-28T12:34:58.354872",
     "exception": false,
     "start_time": "2025-04-28T12:34:57.998251",
     "status": "completed"
    },
    "tags": []
   },
   "outputs": [
    {
     "data": {
      "image/png": "[encoded data removed]",
      "text/plain": [
       "<Figure size 640x480 with 1 Axes>"
      ]
     },
     "metadata": {},
     "output_type": "display_data"
    }
   ],
   "source": [
    "acc = history_dict['binary_accuracy']\n",
    "val_acc = history_dict['val_binary_accuracy']\n",
    "loss = history_dict['loss']\n",
    "val_loss = history_dict['val_loss']\n",
    "\n",
    "epochs = range(1, len(acc) + 1)\n",
    "\n",
    "# \"bo\" is for \"blue dot\"\n",
    "plt.plot(epochs, loss, 'bo', label='Training loss')\n",
    "\n",
    "# \"b\" for \"solid blue line\"\n",
    "plt.plot(epochs, val_loss, 'b', label='Validation loss')\n",
    "plt.title('Training and validation loss')\n",
    "plt.xlabel('Epochs')\n",
    "plt.ylabel('Loss')\n",
    "plt.legend()\n",
    "\n",
    "plt.show()"
   ]
  },
  {
   "cell_type": "code",
   "execution_count": 25,
   "id": "9eb4928a",
   "metadata": {
    "execution": {
     "iopub.execute_input": "2025-04-28T12:34:58.491136Z",
     "iopub.status.busy": "2025-04-28T12:34:58.490795Z",
     "iopub.status.idle": "2025-04-28T12:34:58.689273Z",
     "shell.execute_reply": "2025-04-28T12:34:58.688245Z"
    },
    "papermill": {
     "duration": 0.269318,
     "end_time": "2025-04-28T12:34:58.690857",
     "exception": false,
     "start_time": "2025-04-28T12:34:58.421539",
     "status": "completed"
    },
    "tags": []
   },
   "outputs": [
    {
     "data": {
      "image/png": "[encoded data removed]",
      "text/plain": [
       "<Figure size 640x480 with 1 Axes>"
      ]
     },
     "metadata": {},
     "output_type": "display_data"
    }
   ],
   "source": [
    "# \"bo\" is for \"blue dot\"\n",
    "plt.plot(epochs, acc, 'bo', label='Training acc')\n",
    "# \"b\" for \"solid blue line\"\n",
    "plt.plot(epochs, val_acc, 'b', label='Validation acc')\n",
    "plt.title('Training and validation accuracy')\n",
    "plt.xlabel('Epochs')\n",
    "plt.ylabel('Accuracy')\n",
    "plt.legend(loc='lower right')\n",
    "\n",
    "plt.show()"
   ]
  },
  {
   "cell_type": "markdown",
   "id": "0e154cc2",
   "metadata": {
    "papermill": {
     "duration": 0.065428,
     "end_time": "2025-04-28T12:34:58.822894",
     "exception": false,
     "start_time": "2025-04-28T12:34:58.757466",
     "status": "completed"
    },
    "tags": []
   },
   "source": [
    "In this plot, the dots represent the training loss and accuracy, and the solid lines are the validation loss and accuracy.\n",
    "\n",
    "Notice the training loss decreases with each epoch and the training accuracy increases with each epoch. This is expected when using a gradient descent optimization—it should minimize the desired quantity on every iteration.\n",
    "\n",
    "This isn't the case for the validation loss and accuracy—they seem to peak before the training accuracy. This is an example of overfitting: the model performs better on the training data than it does on data it has never seen before. After this point, the model over-optimizes and learns representations specific to the training data that do not generalize to test data.\n",
    "\n",
    "For this particular case, you could prevent overfitting by simply stopping the training when the validation accuracy is no longer increasing. One way to do so is to use the [tf.keras.callbacks.EarlyStopping callback](http://)\n",
    "\n",
    "## Export the model\n",
    "In the code above, we applied the **TextVectorization** layer to the dataset before feeding text to the model. If you want to make your model capable of processing raw strings (for example, to simplify deploying it), you can include the TextVectorization layer inside your model. To do so, you can create a new model using the weights you just trained."
   ]
  },
  {
   "cell_type": "code",
   "execution_count": 26,
   "id": "c8506e67",
   "metadata": {
    "execution": {
     "iopub.execute_input": "2025-04-28T12:34:58.958294Z",
     "iopub.status.busy": "2025-04-28T12:34:58.957947Z",
     "iopub.status.idle": "2025-04-28T12:35:02.918792Z",
     "shell.execute_reply": "2025-04-28T12:35:02.917885Z"
    },
    "papermill": {
     "duration": 4.030577,
     "end_time": "2025-04-28T12:35:02.920526",
     "exception": false,
     "start_time": "2025-04-28T12:34:58.889949",
     "status": "completed"
    },
    "tags": []
   },
   "outputs": [
    {
     "name": "stdout",
     "output_type": "stream",
     "text": [
      "\u001b[1m782/782\u001b[0m \u001b[32m━━━━━━━━━━━━━━━━━━━━\u001b[0m\u001b[37m\u001b[0m \u001b[1m4s\u001b[0m 4ms/step - accuracy: 0.4977 - binary_accuracy: 0.0000e+00 - loss: 0.0000e+00\n",
      "{'accuracy': 0.5003200173377991, 'binary_accuracy': 0.0, 'loss': 0.0}\n"
     ]
    }
   ],
   "source": [
    "export_model = tf.keras.Sequential([\n",
    "    vectorize_layer,\n",
    "    model,\n",
    "    layers.Activation('sigmoid')\n",
    "])\n",
    "\n",
    "export_model.compile(\n",
    "    loss=losses.BinaryCrossentropy(from_logits=False), \n",
    "    optimizer=\"adam\", \n",
    "    metrics=['accuracy']\n",
    ")\n",
    "\n",
    "# Testing it with 'raw_test_ds', which yields raw strings\n",
    "metrics = export_model.evaluate(raw_test_ds, return_dict=True)\n",
    "print(metrics)\n"
   ]
  },
  {
   "cell_type": "markdown",
   "id": "f08f7223",
   "metadata": {
    "papermill": {
     "duration": 0.07125,
     "end_time": "2025-04-28T12:35:03.063760",
     "exception": false,
     "start_time": "2025-04-28T12:35:02.992510",
     "status": "completed"
    },
    "tags": []
   },
   "source": [
    "## Inferencing on new data\n",
    "\n",
    "To get new predictions for new examples, call **model.predict()**"
   ]
  },
  {
   "cell_type": "code",
   "execution_count": 27,
   "id": "331dc6a9",
   "metadata": {
    "execution": {
     "iopub.execute_input": "2025-04-28T12:35:03.206595Z",
     "iopub.status.busy": "2025-04-28T12:35:03.206280Z",
     "iopub.status.idle": "2025-04-28T12:35:03.497606Z",
     "shell.execute_reply": "2025-04-28T12:35:03.496585Z"
    },
    "papermill": {
     "duration": 0.364284,
     "end_time": "2025-04-28T12:35:03.499092",
     "exception": false,
     "start_time": "2025-04-28T12:35:03.134808",
     "status": "completed"
    },
    "tags": []
   },
   "outputs": [
    {
     "name": "stdout",
     "output_type": "stream",
     "text": [
      "\u001b[1m1/1\u001b[0m \u001b[32m━━━━━━━━━━━━━━━━━━━━\u001b[0m\u001b[37m\u001b[0m \u001b[1m0s\u001b[0m 206ms/step\n"
     ]
    },
    {
     "data": {
      "text/plain": [
       "array([[0.6335787],\n",
       "       [0.5871764]], dtype=float32)"
      ]
     },
     "execution_count": 27,
     "metadata": {},
     "output_type": "execute_result"
    }
   ],
   "source": [
    "examples = tf.constant([\n",
    "    \"The movie was amazing!\",\n",
    "    \"I loved the movie, never gonna lie.\"\n",
    "    \"The movie was terrible...\"\n",
    "])\n",
    "\n",
    "export_model.predict(examples)"
   ]
  },
  {
   "cell_type": "markdown",
   "id": "0b1c2551",
   "metadata": {
    "papermill": {
     "duration": 0.074121,
     "end_time": "2025-04-28T12:35:03.656689",
     "exception": false,
     "start_time": "2025-04-28T12:35:03.582568",
     "status": "completed"
    },
    "tags": []
   },
   "source": [
    "Including the text preprocessing logic inside your model enables you to export a model for production that simplifies deployment, and reduces the potential for [train/test skew](http://).\n",
    "\n",
    "There is a performance difference to keep in mind when choosing where to apply your TextVectorization layer. Using it outside of your model enables you to do asynchronous CPU processing and buffering of your data when training on GPU. So, if you're training your model on the GPU, you probably want to go with this option to get the best performance while developing your model, then switch to including the TextVectorization layer inside your model when you're ready to prepare for deployment."
   ]
  }
 ],
 "metadata": {
  "colab": {
   "provenance": []
  },
  "kaggle": {
   "accelerator": "none",
   "dataSources": [],
   "dockerImageVersionId": 31012,
   "isGpuEnabled": false,
   "isInternetEnabled": true,
   "language": "python",
   "sourceType": "notebook"
  },
  "kernelspec": {
   "display_name": "Python 3",
   "language": "python",
   "name": "python3"
  },
  "language_info": {
   "codemirror_mode": {
    "name": "ipython",
    "version": 3
   },
   "file_extension": ".py",
   "mimetype": "text/x-python",
   "name": "python",
   "nbconvert_exporter": "python",
   "pygments_lexer": "ipython3",
   "version": "3.11.11"
  },
  "papermill": {
   "default_parameters": {},
   "duration": 154.294069,
   "end_time": "2025-04-28T12:35:06.846005",
   "environment_variables": {},
   "exception": null,
   "input_path": "__notebook__.ipynb",
   "output_path": "__notebook__.ipynb",
   "parameters": {},
   "start_time": "2025-04-28T12:32:32.551936",
   "version": "2.6.0"
  }
 },
 "nbformat": 4,
 "nbformat_minor": 5
}
