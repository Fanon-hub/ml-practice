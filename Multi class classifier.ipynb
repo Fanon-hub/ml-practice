{
 "cells": [
  {
   "cell_type": "markdown",
   "id": "878817ab",
   "metadata": {
    "papermill": {
     "duration": 0.004747,
     "end_time": "2025-04-28T20:32:36.654545",
     "exception": false,
     "start_time": "2025-04-28T20:32:36.649798",
     "status": "completed"
    },
    "tags": []
   },
   "source": [
    "## Importing Important Liraries"
   ]
  },
  {
   "cell_type": "code",
   "execution_count": 1,
   "id": "f295da05",
   "metadata": {
    "execution": {
     "iopub.execute_input": "2025-04-28T20:32:36.666676Z",
     "iopub.status.busy": "2025-04-28T20:32:36.666132Z",
     "iopub.status.idle": "2025-04-28T20:33:01.199847Z",
     "shell.execute_reply": "2025-04-28T20:33:01.197214Z"
    },
    "papermill": {
     "duration": 24.542132,
     "end_time": "2025-04-28T20:33:01.202064",
     "exception": false,
     "start_time": "2025-04-28T20:32:36.659932",
     "status": "completed"
    },
    "tags": []
   },
   "outputs": [
    {
     "name": "stderr",
     "output_type": "stream",
     "text": [
      "2025-04-28 20:32:39.239206: E external/local_xla/xla/stream_executor/cuda/cuda_fft.cc:477] Unable to register cuFFT factory: Attempting to register factory for plugin cuFFT when one has already been registered\n",
      "WARNING: All log messages before absl::InitializeLog() is called are written to STDERR\n",
      "E0000 00:00:1745872359.575054      13 cuda_dnn.cc:8310] Unable to register cuDNN factory: Attempting to register factory for plugin cuDNN when one has already been registered\n",
      "E0000 00:00:1745872359.674378      13 cuda_blas.cc:1418] Unable to register cuBLAS factory: Attempting to register factory for plugin cuBLAS when one has already been registered\n"
     ]
    },
    {
     "name": "stdout",
     "output_type": "stream",
     "text": [
      "2.18.0\n"
     ]
    }
   ],
   "source": [
    "import os\n",
    "import tarfile\n",
    "import urllib.request\n",
    "import tensorflow as tf\n",
    "\n",
    "print (tf. __version__ )\n"
   ]
  },
  {
   "cell_type": "markdown",
   "id": "a1be3862",
   "metadata": {
    "papermill": {
     "duration": 0.006144,
     "end_time": "2025-04-28T20:33:01.216515",
     "exception": false,
     "start_time": "2025-04-28T20:33:01.210371",
     "status": "completed"
    },
    "tags": []
   },
   "source": [
    "## Downloading the Stack Overflow Dataset"
   ]
  },
  {
   "cell_type": "code",
   "execution_count": 2,
   "id": "2bd9132c",
   "metadata": {
    "execution": {
     "iopub.execute_input": "2025-04-28T20:33:01.227075Z",
     "iopub.status.busy": "2025-04-28T20:33:01.225550Z",
     "iopub.status.idle": "2025-04-28T20:33:01.231846Z",
     "shell.execute_reply": "2025-04-28T20:33:01.230542Z"
    },
    "papermill": {
     "duration": 0.014612,
     "end_time": "2025-04-28T20:33:01.235038",
     "exception": false,
     "start_time": "2025-04-28T20:33:01.220426",
     "status": "completed"
    },
    "tags": []
   },
   "outputs": [],
   "source": [
    "tar_path = '/kaggle/input/stack-overflow/stack_overflow_16k.tar.gz'\n",
    "\n",
    "\n"
   ]
  },
  {
   "cell_type": "code",
   "execution_count": 3,
   "id": "d23ab5e2",
   "metadata": {
    "execution": {
     "iopub.execute_input": "2025-04-28T20:33:01.250895Z",
     "iopub.status.busy": "2025-04-28T20:33:01.250396Z",
     "iopub.status.idle": "2025-04-28T20:33:01.258452Z",
     "shell.execute_reply": "2025-04-28T20:33:01.256622Z"
    },
    "papermill": {
     "duration": 0.022753,
     "end_time": "2025-04-28T20:33:01.264622",
     "exception": false,
     "start_time": "2025-04-28T20:33:01.241869",
     "status": "completed"
    },
    "tags": []
   },
   "outputs": [
    {
     "name": "stdout",
     "output_type": "stream",
     "text": [
      "['__notebook__.ipynb']\n"
     ]
    }
   ],
   "source": [
    "import os\n",
    "print(os.listdir('/kaggle/working'))"
   ]
  },
  {
   "cell_type": "code",
   "execution_count": 4,
   "id": "09fc248c",
   "metadata": {
    "execution": {
     "iopub.execute_input": "2025-04-28T20:33:01.282959Z",
     "iopub.status.busy": "2025-04-28T20:33:01.282558Z",
     "iopub.status.idle": "2025-04-28T20:33:01.289867Z",
     "shell.execute_reply": "2025-04-28T20:33:01.288706Z"
    },
    "papermill": {
     "duration": 0.017693,
     "end_time": "2025-04-28T20:33:01.291690",
     "exception": false,
     "start_time": "2025-04-28T20:33:01.273997",
     "status": "completed"
    },
    "tags": []
   },
   "outputs": [
    {
     "name": "stdout",
     "output_type": "stream",
     "text": [
      "Already extracted.\n"
     ]
    }
   ],
   "source": [
    "# Path where your uploaded file is located\n",
    "stack_overflow_tar = '/kaggle/working/stack_overflow_16k.tar.gz'\n",
    "\n",
    "# 1. Extract the tar.gz file if not already extracted\n",
    "if not os.path.exists('/kaggle/input/stack-overflow'):\n",
    "    with tarfile.open(stack_overflow_tar, 'r:gz') as tar:\n",
    "        tar.extractall(path='/kaggle/working/')\n",
    "    print(\"Extraction complete!\")\n",
    "else:\n",
    "    print(\"Already extracted.\")"
   ]
  },
  {
   "cell_type": "markdown",
   "id": "c55011d9",
   "metadata": {
    "papermill": {
     "duration": 0.003636,
     "end_time": "2025-04-28T20:33:01.300051",
     "exception": false,
     "start_time": "2025-04-28T20:33:01.296415",
     "status": "completed"
    },
    "tags": []
   },
   "source": [
    "stack_overflow/\n",
    " ├── train/\n",
    " │    ├── python/\n",
    " │    ├── javascript/\n",
    " │    ├── java/\n",
    " │    └── csharp/\n",
    " └── test/\n"
   ]
  },
  {
   "cell_type": "markdown",
   "id": "8684fe96",
   "metadata": {
    "papermill": {
     "duration": 0.003682,
     "end_time": "2025-04-28T20:33:01.308959",
     "exception": false,
     "start_time": "2025-04-28T20:33:01.305277",
     "status": "completed"
    },
    "tags": []
   },
   "source": [
    "## Preparing the dataset"
   ]
  },
  {
   "cell_type": "code",
   "execution_count": 5,
   "id": "f49fdc65",
   "metadata": {
    "execution": {
     "iopub.execute_input": "2025-04-28T20:33:01.318090Z",
     "iopub.status.busy": "2025-04-28T20:33:01.317768Z",
     "iopub.status.idle": "2025-04-28T20:33:09.021898Z",
     "shell.execute_reply": "2025-04-28T20:33:09.020843Z"
    },
    "papermill": {
     "duration": 7.710951,
     "end_time": "2025-04-28T20:33:09.023699",
     "exception": false,
     "start_time": "2025-04-28T20:33:01.312748",
     "status": "completed"
    },
    "tags": []
   },
   "outputs": [
    {
     "name": "stdout",
     "output_type": "stream",
     "text": [
      "Found 8000 files belonging to 4 classes.\n",
      "Using 6400 files for training.\n"
     ]
    },
    {
     "name": "stderr",
     "output_type": "stream",
     "text": [
      "2025-04-28 20:33:04.933833: E external/local_xla/xla/stream_executor/cuda/cuda_driver.cc:152] failed call to cuInit: INTERNAL: CUDA error: Failed call to cuInit: UNKNOWN ERROR (303)\n"
     ]
    },
    {
     "name": "stdout",
     "output_type": "stream",
     "text": [
      "Found 8000 files belonging to 4 classes.\n",
      "Using 1600 files for validation.\n",
      "Found 8000 files belonging to 4 classes.\n",
      "Datasets prepared successfully!\n"
     ]
    }
   ],
   "source": [
    "# 2. Set batch size and seed\n",
    "batch_size = 32\n",
    "seed = 42\n",
    "\n",
    "# 3. Create training, validation, and test datasets\n",
    "train_ds = tf.keras.utils.text_dataset_from_directory(\n",
    "    '/kaggle/input/stack-overflow/train',\n",
    "    batch_size=batch_size,\n",
    "    validation_split=0.2,\n",
    "    subset='training',\n",
    "    seed=seed\n",
    ")\n",
    "\n",
    "val_ds = tf.keras.utils.text_dataset_from_directory(\n",
    "    '/kaggle/input/stack-overflow/train',\n",
    "    batch_size=batch_size,\n",
    "    validation_split=0.2,\n",
    "    subset='validation',\n",
    "    seed=seed\n",
    ")\n",
    "\n",
    "test_ds = tf.keras.utils.text_dataset_from_directory(\n",
    "    '/kaggle/input/stack-overflow/test',\n",
    "    batch_size=batch_size\n",
    ")\n",
    "\n",
    "print(\"Datasets prepared successfully!\")"
   ]
  },
  {
   "cell_type": "markdown",
   "id": "576a2d12",
   "metadata": {
    "papermill": {
     "duration": 0.003871,
     "end_time": "2025-04-28T20:33:09.032314",
     "exception": false,
     "start_time": "2025-04-28T20:33:09.028443",
     "status": "completed"
    },
    "tags": []
   },
   "source": [
    "# Updating the Model Architecture\n"
   ]
  },
  {
   "cell_type": "code",
   "execution_count": 6,
   "id": "b2bbb7b3",
   "metadata": {
    "execution": {
     "iopub.execute_input": "2025-04-28T20:33:09.042746Z",
     "iopub.status.busy": "2025-04-28T20:33:09.042385Z",
     "iopub.status.idle": "2025-04-28T20:33:14.107573Z",
     "shell.execute_reply": "2025-04-28T20:33:14.106572Z"
    },
    "papermill": {
     "duration": 5.072962,
     "end_time": "2025-04-28T20:33:14.109386",
     "exception": false,
     "start_time": "2025-04-28T20:33:09.036424",
     "status": "completed"
    },
    "tags": []
   },
   "outputs": [],
   "source": [
    "from tensorflow.keras import layers\n",
    "\n",
    "# Create a text vectorization layer\n",
    "max_features = 10000\n",
    "sequence_length = 250\n",
    "\n",
    "vectorize_layer = layers.TextVectorization(\n",
    "    max_tokens=max_features,\n",
    "    output_mode='int',\n",
    "    output_sequence_length=sequence_length)\n",
    "\n",
    "# Make a text-only dataset (without labels) for adapt()\n",
    "train_text = train_ds.map(lambda x, y: x)\n",
    "vectorize_layer.adapt(train_text)\n",
    "\n",
    "# Build the model\n",
    "model = tf.keras.Sequential([\n",
    "    vectorize_layer,\n",
    "    layers.Embedding(max_features + 1, 16),\n",
    "    layers.Dropout(0.2),\n",
    "    layers.GlobalAveragePooling1D(),\n",
    "    layers.Dropout(0.2),\n",
    "    layers.Dense(4)  \n",
    "])"
   ]
  },
  {
   "cell_type": "markdown",
   "id": "e278a1dc",
   "metadata": {
    "papermill": {
     "duration": 0.004059,
     "end_time": "2025-04-28T20:33:14.117883",
     "exception": false,
     "start_time": "2025-04-28T20:33:14.113824",
     "status": "completed"
    },
    "tags": []
   },
   "source": [
    "# Model Compilation\n",
    "\n",
    "updating the model loss function and metrics"
   ]
  },
  {
   "cell_type": "code",
   "execution_count": 7,
   "id": "2b38f0f1",
   "metadata": {
    "execution": {
     "iopub.execute_input": "2025-04-28T20:33:14.129067Z",
     "iopub.status.busy": "2025-04-28T20:33:14.128701Z",
     "iopub.status.idle": "2025-04-28T20:33:14.151225Z",
     "shell.execute_reply": "2025-04-28T20:33:14.150270Z"
    },
    "papermill": {
     "duration": 0.031129,
     "end_time": "2025-04-28T20:33:14.153294",
     "exception": false,
     "start_time": "2025-04-28T20:33:14.122165",
     "status": "completed"
    },
    "tags": []
   },
   "outputs": [],
   "source": [
    "model.compile(\n",
    "    loss=tf.keras.losses.SparseCategoricalCrossentropy(from_logits=True),\n",
    "    optimizer='adam',\n",
    "    metrics=['accuracy'])  # Changed from BinaryAccuracy to accuracy"
   ]
  },
  {
   "cell_type": "code",
   "execution_count": 8,
   "id": "e4610d88",
   "metadata": {
    "execution": {
     "iopub.execute_input": "2025-04-28T20:33:14.164672Z",
     "iopub.status.busy": "2025-04-28T20:33:14.164049Z",
     "iopub.status.idle": "2025-04-28T20:33:14.183190Z",
     "shell.execute_reply": "2025-04-28T20:33:14.182196Z"
    },
    "papermill": {
     "duration": 0.026359,
     "end_time": "2025-04-28T20:33:14.184861",
     "exception": false,
     "start_time": "2025-04-28T20:33:14.158502",
     "status": "completed"
    },
    "tags": []
   },
   "outputs": [
    {
     "data": {
      "text/html": [
       "<pre style=\"white-space:pre;overflow-x:auto;line-height:normal;font-family:Menlo,'DejaVu Sans Mono',consolas,'Courier New',monospace\"><span style=\"font-weight: bold\">Model: \"sequential\"</span>\n",
       "</pre>\n"
      ],
      "text/plain": [
       "\u001b[1mModel: \"sequential\"\u001b[0m\n"
      ]
     },
     "metadata": {},
     "output_type": "display_data"
    },
    {
     "data": {
      "text/html": [
       "<pre style=\"white-space:pre;overflow-x:auto;line-height:normal;font-family:Menlo,'DejaVu Sans Mono',consolas,'Courier New',monospace\">┏━━━━━━━━━━━━━━━━━━━━━━━━━━━━━━━━━━━━━━┳━━━━━━━━━━━━━━━━━━━━━━━━━━━━━┳━━━━━━━━━━━━━━━━━┓\n",
       "┃<span style=\"font-weight: bold\"> Layer (type)                         </span>┃<span style=\"font-weight: bold\"> Output Shape                </span>┃<span style=\"font-weight: bold\">         Param # </span>┃\n",
       "┡━━━━━━━━━━━━━━━━━━━━━━━━━━━━━━━━━━━━━━╇━━━━━━━━━━━━━━━━━━━━━━━━━━━━━╇━━━━━━━━━━━━━━━━━┩\n",
       "│ text_vectorization                   │ ?                           │     <span style=\"color: #00af00; text-decoration-color: #00af00\">0</span> (unbuilt) │\n",
       "│ (<span style=\"color: #0087ff; text-decoration-color: #0087ff\">TextVectorization</span>)                  │                             │                 │\n",
       "├──────────────────────────────────────┼─────────────────────────────┼─────────────────┤\n",
       "│ embedding (<span style=\"color: #0087ff; text-decoration-color: #0087ff\">Embedding</span>)                │ ?                           │     <span style=\"color: #00af00; text-decoration-color: #00af00\">0</span> (unbuilt) │\n",
       "├──────────────────────────────────────┼─────────────────────────────┼─────────────────┤\n",
       "│ dropout (<span style=\"color: #0087ff; text-decoration-color: #0087ff\">Dropout</span>)                    │ ?                           │     <span style=\"color: #00af00; text-decoration-color: #00af00\">0</span> (unbuilt) │\n",
       "├──────────────────────────────────────┼─────────────────────────────┼─────────────────┤\n",
       "│ global_average_pooling1d             │ ?                           │     <span style=\"color: #00af00; text-decoration-color: #00af00\">0</span> (unbuilt) │\n",
       "│ (<span style=\"color: #0087ff; text-decoration-color: #0087ff\">GlobalAveragePooling1D</span>)             │                             │                 │\n",
       "├──────────────────────────────────────┼─────────────────────────────┼─────────────────┤\n",
       "│ dropout_1 (<span style=\"color: #0087ff; text-decoration-color: #0087ff\">Dropout</span>)                  │ ?                           │     <span style=\"color: #00af00; text-decoration-color: #00af00\">0</span> (unbuilt) │\n",
       "├──────────────────────────────────────┼─────────────────────────────┼─────────────────┤\n",
       "│ dense (<span style=\"color: #0087ff; text-decoration-color: #0087ff\">Dense</span>)                        │ ?                           │     <span style=\"color: #00af00; text-decoration-color: #00af00\">0</span> (unbuilt) │\n",
       "└──────────────────────────────────────┴─────────────────────────────┴─────────────────┘\n",
       "</pre>\n"
      ],
      "text/plain": [
       "┏━━━━━━━━━━━━━━━━━━━━━━━━━━━━━━━━━━━━━━┳━━━━━━━━━━━━━━━━━━━━━━━━━━━━━┳━━━━━━━━━━━━━━━━━┓\n",
       "┃\u001b[1m \u001b[0m\u001b[1mLayer (type)                        \u001b[0m\u001b[1m \u001b[0m┃\u001b[1m \u001b[0m\u001b[1mOutput Shape               \u001b[0m\u001b[1m \u001b[0m┃\u001b[1m \u001b[0m\u001b[1m        Param #\u001b[0m\u001b[1m \u001b[0m┃\n",
       "┡━━━━━━━━━━━━━━━━━━━━━━━━━━━━━━━━━━━━━━╇━━━━━━━━━━━━━━━━━━━━━━━━━━━━━╇━━━━━━━━━━━━━━━━━┩\n",
       "│ text_vectorization                   │ ?                           │     \u001b[38;5;34m0\u001b[0m (unbuilt) │\n",
       "│ (\u001b[38;5;33mTextVectorization\u001b[0m)                  │                             │                 │\n",
       "├──────────────────────────────────────┼─────────────────────────────┼─────────────────┤\n",
       "│ embedding (\u001b[38;5;33mEmbedding\u001b[0m)                │ ?                           │     \u001b[38;5;34m0\u001b[0m (unbuilt) │\n",
       "├──────────────────────────────────────┼─────────────────────────────┼─────────────────┤\n",
       "│ dropout (\u001b[38;5;33mDropout\u001b[0m)                    │ ?                           │     \u001b[38;5;34m0\u001b[0m (unbuilt) │\n",
       "├──────────────────────────────────────┼─────────────────────────────┼─────────────────┤\n",
       "│ global_average_pooling1d             │ ?                           │     \u001b[38;5;34m0\u001b[0m (unbuilt) │\n",
       "│ (\u001b[38;5;33mGlobalAveragePooling1D\u001b[0m)             │                             │                 │\n",
       "├──────────────────────────────────────┼─────────────────────────────┼─────────────────┤\n",
       "│ dropout_1 (\u001b[38;5;33mDropout\u001b[0m)                  │ ?                           │     \u001b[38;5;34m0\u001b[0m (unbuilt) │\n",
       "├──────────────────────────────────────┼─────────────────────────────┼─────────────────┤\n",
       "│ dense (\u001b[38;5;33mDense\u001b[0m)                        │ ?                           │     \u001b[38;5;34m0\u001b[0m (unbuilt) │\n",
       "└──────────────────────────────────────┴─────────────────────────────┴─────────────────┘\n"
      ]
     },
     "metadata": {},
     "output_type": "display_data"
    },
    {
     "data": {
      "text/html": [
       "<pre style=\"white-space:pre;overflow-x:auto;line-height:normal;font-family:Menlo,'DejaVu Sans Mono',consolas,'Courier New',monospace\"><span style=\"font-weight: bold\"> Total params: </span><span style=\"color: #00af00; text-decoration-color: #00af00\">0</span> (0.00 B)\n",
       "</pre>\n"
      ],
      "text/plain": [
       "\u001b[1m Total params: \u001b[0m\u001b[38;5;34m0\u001b[0m (0.00 B)\n"
      ]
     },
     "metadata": {},
     "output_type": "display_data"
    },
    {
     "data": {
      "text/html": [
       "<pre style=\"white-space:pre;overflow-x:auto;line-height:normal;font-family:Menlo,'DejaVu Sans Mono',consolas,'Courier New',monospace\"><span style=\"font-weight: bold\"> Trainable params: </span><span style=\"color: #00af00; text-decoration-color: #00af00\">0</span> (0.00 B)\n",
       "</pre>\n"
      ],
      "text/plain": [
       "\u001b[1m Trainable params: \u001b[0m\u001b[38;5;34m0\u001b[0m (0.00 B)\n"
      ]
     },
     "metadata": {},
     "output_type": "display_data"
    },
    {
     "data": {
      "text/html": [
       "<pre style=\"white-space:pre;overflow-x:auto;line-height:normal;font-family:Menlo,'DejaVu Sans Mono',consolas,'Courier New',monospace\"><span style=\"font-weight: bold\"> Non-trainable params: </span><span style=\"color: #00af00; text-decoration-color: #00af00\">0</span> (0.00 B)\n",
       "</pre>\n"
      ],
      "text/plain": [
       "\u001b[1m Non-trainable params: \u001b[0m\u001b[38;5;34m0\u001b[0m (0.00 B)\n"
      ]
     },
     "metadata": {},
     "output_type": "display_data"
    }
   ],
   "source": [
    "model.summary()"
   ]
  },
  {
   "cell_type": "markdown",
   "id": "5a2a5f22",
   "metadata": {
    "papermill": {
     "duration": 0.00442,
     "end_time": "2025-04-28T20:33:14.194233",
     "exception": false,
     "start_time": "2025-04-28T20:33:14.189813",
     "status": "completed"
    },
    "tags": []
   },
   "source": [
    "# Training the model\n",
    "\n",
    "The output will reflect multi-class metrics"
   ]
  },
  {
   "cell_type": "code",
   "execution_count": 9,
   "id": "2fa7074e",
   "metadata": {
    "execution": {
     "iopub.execute_input": "2025-04-28T20:33:14.205024Z",
     "iopub.status.busy": "2025-04-28T20:33:14.204708Z",
     "iopub.status.idle": "2025-04-28T20:33:44.828447Z",
     "shell.execute_reply": "2025-04-28T20:33:44.827352Z"
    },
    "papermill": {
     "duration": 30.6311,
     "end_time": "2025-04-28T20:33:44.830236",
     "exception": false,
     "start_time": "2025-04-28T20:33:14.199136",
     "status": "completed"
    },
    "tags": []
   },
   "outputs": [
    {
     "name": "stdout",
     "output_type": "stream",
     "text": [
      "Epoch 1/10\n",
      "\u001b[1m200/200\u001b[0m \u001b[32m━━━━━━━━━━━━━━━━━━━━\u001b[0m\u001b[37m\u001b[0m \u001b[1m6s\u001b[0m 18ms/step - accuracy: 0.2989 - loss: 1.3806 - val_accuracy: 0.3925 - val_loss: 1.3632\n",
      "Epoch 2/10\n",
      "\u001b[1m200/200\u001b[0m \u001b[32m━━━━━━━━━━━━━━━━━━━━\u001b[0m\u001b[37m\u001b[0m \u001b[1m3s\u001b[0m 14ms/step - accuracy: 0.3850 - loss: 1.3526 - val_accuracy: 0.4331 - val_loss: 1.3168\n",
      "Epoch 3/10\n",
      "\u001b[1m200/200\u001b[0m \u001b[32m━━━━━━━━━━━━━━━━━━━━\u001b[0m\u001b[37m\u001b[0m \u001b[1m3s\u001b[0m 13ms/step - accuracy: 0.4733 - loss: 1.2949 - val_accuracy: 0.5575 - val_loss: 1.2370\n",
      "Epoch 4/10\n",
      "\u001b[1m200/200\u001b[0m \u001b[32m━━━━━━━━━━━━━━━━━━━━\u001b[0m\u001b[37m\u001b[0m \u001b[1m3s\u001b[0m 14ms/step - accuracy: 0.5581 - loss: 1.2166 - val_accuracy: 0.6306 - val_loss: 1.1415\n",
      "Epoch 5/10\n",
      "\u001b[1m200/200\u001b[0m \u001b[32m━━━━━━━━━━━━━━━━━━━━\u001b[0m\u001b[37m\u001b[0m \u001b[1m3s\u001b[0m 15ms/step - accuracy: 0.6265 - loss: 1.1224 - val_accuracy: 0.6769 - val_loss: 1.0604\n",
      "Epoch 6/10\n",
      "\u001b[1m200/200\u001b[0m \u001b[32m━━━━━━━━━━━━━━━━━━━━\u001b[0m\u001b[37m\u001b[0m \u001b[1m3s\u001b[0m 14ms/step - accuracy: 0.6688 - loss: 1.0402 - val_accuracy: 0.6875 - val_loss: 0.9786\n",
      "Epoch 7/10\n",
      "\u001b[1m200/200\u001b[0m \u001b[32m━━━━━━━━━━━━━━━━━━━━\u001b[0m\u001b[37m\u001b[0m \u001b[1m3s\u001b[0m 13ms/step - accuracy: 0.6857 - loss: 0.9689 - val_accuracy: 0.7319 - val_loss: 0.9193\n",
      "Epoch 8/10\n",
      "\u001b[1m200/200\u001b[0m \u001b[32m━━━━━━━━━━━━━━━━━━━━\u001b[0m\u001b[37m\u001b[0m \u001b[1m3s\u001b[0m 15ms/step - accuracy: 0.7192 - loss: 0.8953 - val_accuracy: 0.7212 - val_loss: 0.8688\n",
      "Epoch 9/10\n",
      "\u001b[1m200/200\u001b[0m \u001b[32m━━━━━━━━━━━━━━━━━━━━\u001b[0m\u001b[37m\u001b[0m \u001b[1m2s\u001b[0m 12ms/step - accuracy: 0.7296 - loss: 0.8479 - val_accuracy: 0.7544 - val_loss: 0.8192\n",
      "Epoch 10/10\n",
      "\u001b[1m200/200\u001b[0m \u001b[32m━━━━━━━━━━━━━━━━━━━━\u001b[0m\u001b[37m\u001b[0m \u001b[1m2s\u001b[0m 12ms/step - accuracy: 0.7467 - loss: 0.8001 - val_accuracy: 0.7394 - val_loss: 0.7858\n"
     ]
    }
   ],
   "source": [
    "early_stopping = tf.keras.callbacks.EarlyStopping(\n",
    "    monitor='val_loss',\n",
    "    patience=3,\n",
    "    restore_best_weights=True\n",
    ")\n",
    "\n",
    "epochs = 10\n",
    "history = model.fit(\n",
    "    train_ds,\n",
    "    validation_data=val_ds,\n",
    "    verbose=1,\n",
    "    epochs=epochs,\n",
    "    callbacks=[early_stopping]\n",
    ")\n"
   ]
  },
  {
   "cell_type": "markdown",
   "id": "3903149a",
   "metadata": {
    "papermill": {
     "duration": 0.02745,
     "end_time": "2025-04-28T20:33:44.886576",
     "exception": false,
     "start_time": "2025-04-28T20:33:44.859126",
     "status": "completed"
    },
    "tags": []
   },
   "source": [
    "# Evaluating the model"
   ]
  },
  {
   "cell_type": "code",
   "execution_count": 10,
   "id": "d78695ea",
   "metadata": {
    "execution": {
     "iopub.execute_input": "2025-04-28T20:33:44.941552Z",
     "iopub.status.busy": "2025-04-28T20:33:44.941212Z",
     "iopub.status.idle": "2025-04-28T20:33:51.610026Z",
     "shell.execute_reply": "2025-04-28T20:33:51.608390Z"
    },
    "papermill": {
     "duration": 6.698959,
     "end_time": "2025-04-28T20:33:51.612158",
     "exception": false,
     "start_time": "2025-04-28T20:33:44.913199",
     "status": "completed"
    },
    "tags": []
   },
   "outputs": [
    {
     "name": "stdout",
     "output_type": "stream",
     "text": [
      "\u001b[1m250/250\u001b[0m \u001b[32m━━━━━━━━━━━━━━━━━━━━\u001b[0m\u001b[37m\u001b[0m \u001b[1m7s\u001b[0m 27ms/step - accuracy: 0.7083 - loss: 0.8273\n",
      "\n",
      " Test Loss:  0.8230355978012085\n",
      "\n",
      " Test Accuracy:  0.7122499942779541\n"
     ]
    }
   ],
   "source": [
    "test_loss, test_acc = model.evaluate(test_ds)\n",
    "\n",
    "print(\"\\n Test Loss: \", test_loss)\n",
    "print(\"\\n Test Accuracy: \", test_acc)"
   ]
  },
  {
   "cell_type": "markdown",
   "id": "a4e2c729",
   "metadata": {
    "papermill": {
     "duration": 0.033001,
     "end_time": "2025-04-28T20:33:51.678971",
     "exception": false,
     "start_time": "2025-04-28T20:33:51.645970",
     "status": "completed"
    },
    "tags": []
   },
   "source": [
    "# Creating a plot of accuracy and loss over time"
   ]
  },
  {
   "cell_type": "code",
   "execution_count": 11,
   "id": "4e0d3915",
   "metadata": {
    "execution": {
     "iopub.execute_input": "2025-04-28T20:33:51.743578Z",
     "iopub.status.busy": "2025-04-28T20:33:51.743263Z",
     "iopub.status.idle": "2025-04-28T20:33:52.236478Z",
     "shell.execute_reply": "2025-04-28T20:33:52.235520Z"
    },
    "papermill": {
     "duration": 0.525817,
     "end_time": "2025-04-28T20:33:52.238121",
     "exception": false,
     "start_time": "2025-04-28T20:33:51.712304",
     "status": "completed"
    },
    "tags": []
   },
   "outputs": [
    {
     "data": {
      "image/png": "[encoded data removed]",
      "text/plain": [
       "<Figure size 1400x600 with 2 Axes>"
      ]
     },
     "metadata": {},
     "output_type": "display_data"
    }
   ],
   "source": [
    "import matplotlib.pyplot as plt\n",
    "\n",
    "#Extract history values\n",
    "acc = history.history['accuracy']\n",
    "val_acc = history.history['val_accuracy']\n",
    "\n",
    "loss = history.history['loss']\n",
    "val_loss = history.history['val_loss']\n",
    "\n",
    "epochs_range = range(len(acc))\n",
    "\n",
    "# Plotting the curves\n",
    "plt.figure(figsize=(14,6))\n",
    "\n",
    "#Accuracy plot\n",
    "plt.subplot(1, 2, 1)\n",
    "# \"bo\" is for \"blue dot\"\n",
    "plt.plot(epochs_range, acc, 'bo', label='Training Accuracy')\n",
    "# \"b\" is for \"blue dot\"\n",
    "plt.plot(epochs_range, val_acc, 'b', label='Validation Accuracy') \n",
    "plt.legend(loc='lower right')\n",
    "plt.xlabel('Epochs')\n",
    "plt.ylabel('Accuracy')\n",
    "plt.title('Training and Validation Accuracy')\n",
    "\n",
    "# Loss plot\n",
    "plt.subplot(1, 2, 2)\n",
    "# \"bo\" is for \"blue dot\"\n",
    "plt.plot(epochs_range, loss, 'bo', label='Training Loss')\n",
    "# \"b\" is for \"blue dot\"\n",
    "plt.plot(epochs_range, val_loss, 'b', label='Validation Loss') \n",
    "plt.legend(loc='upper right')\n",
    "plt.xlabel('Epochs')\n",
    "plt.ylabel('Loss')\n",
    "plt.title('Training and Validation Loss')\n",
    "\n",
    "plt.show()"
   ]
  },
  {
   "cell_type": "markdown",
   "id": "b5ac4c30",
   "metadata": {
    "papermill": {
     "duration": 0.031826,
     "end_time": "2025-04-28T20:33:52.303489",
     "exception": false,
     "start_time": "2025-04-28T20:33:52.271663",
     "status": "completed"
    },
    "tags": []
   },
   "source": [
    "In this plot, the dots represent the training loss and accuracy, and the solid lines are the validation loss and accuracy.\n",
    "\n",
    "Notice the training loss decreases with each epoch and the training accuracy increases with each epoch. This is expected when using a gradient descent optimization—it should minimize the desired quantity on every iteration.\n",
    "\n",
    "This isn't the case for the validation loss and accuracy—they seem to peak before the training accuracy. This is an example of overfitting: the model performs better on the training data than it does on data it has never seen before. After this point, the model over-optimizes and learns representations specific to the training data that do not generalize to test data"
   ]
  }
 ],
 "metadata": {
  "kaggle": {
   "accelerator": "none",
   "dataSources": [
    {
     "datasetId": 7278648,
     "sourceId": 11604764,
     "sourceType": "datasetVersion"
    }
   ],
   "dockerImageVersionId": 31012,
   "isGpuEnabled": false,
   "isInternetEnabled": true,
   "language": "python",
   "sourceType": "notebook"
  },
  "kernelspec": {
   "display_name": "Python 3",
   "language": "python",
   "name": "python3"
  },
  "language_info": {
   "codemirror_mode": {
    "name": "ipython",
    "version": 3
   },
   "file_extension": ".py",
   "mimetype": "text/x-python",
   "name": "python",
   "nbconvert_exporter": "python",
   "pygments_lexer": "ipython3",
   "version": "3.11.11"
  },
  "papermill": {
   "default_parameters": {},
   "duration": 84.380089,
   "end_time": "2025-04-28T20:33:55.477238",
   "environment_variables": {},
   "exception": null,
   "input_path": "__notebook__.ipynb",
   "output_path": "__notebook__.ipynb",
   "parameters": {},
   "start_time": "2025-04-28T20:32:31.097149",
   "version": "2.6.0"
  }
 },
 "nbformat": 4,
 "nbformat_minor": 5
}
