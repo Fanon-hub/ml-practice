{
 "cells": [
  {
   "cell_type": "markdown",
   "id": "7c0038e0",
   "metadata": {
    "papermill": {
     "duration": 0.004642,
     "end_time": "2025-04-28T20:43:55.466622",
     "exception": false,
     "start_time": "2025-04-28T20:43:55.461980",
     "status": "completed"
    },
    "tags": []
   },
   "source": [
    "## Importing Important Liraries"
   ]
  },
  {
   "cell_type": "code",
   "execution_count": 1,
   "id": "bebeba8c",
   "metadata": {
    "execution": {
     "iopub.execute_input": "2025-04-28T20:43:55.476181Z",
     "iopub.status.busy": "2025-04-28T20:43:55.475854Z",
     "iopub.status.idle": "2025-04-28T20:44:14.329128Z",
     "shell.execute_reply": "2025-04-28T20:44:14.327967Z"
    },
    "papermill": {
     "duration": 18.859432,
     "end_time": "2025-04-28T20:44:14.330534",
     "exception": false,
     "start_time": "2025-04-28T20:43:55.471102",
     "status": "completed"
    },
    "tags": []
   },
   "outputs": [
    {
     "name": "stderr",
     "output_type": "stream",
     "text": [
      "2025-04-28 20:43:57.418705: E external/local_xla/xla/stream_executor/cuda/cuda_fft.cc:477] Unable to register cuFFT factory: Attempting to register factory for plugin cuFFT when one has already been registered\n",
      "WARNING: All log messages before absl::InitializeLog() is called are written to STDERR\n",
      "E0000 00:00:1745873037.662968      13 cuda_dnn.cc:8310] Unable to register cuDNN factory: Attempting to register factory for plugin cuDNN when one has already been registered\n",
      "E0000 00:00:1745873037.739037      13 cuda_blas.cc:1418] Unable to register cuBLAS factory: Attempting to register factory for plugin cuBLAS when one has already been registered\n"
     ]
    },
    {
     "name": "stdout",
     "output_type": "stream",
     "text": [
      "2.18.0\n"
     ]
    }
   ],
   "source": [
    "import os\n",
    "import tarfile\n",
    "import urllib.request\n",
    "import tensorflow as tf\n",
    "\n",
    "print (tf. __version__ )\n"
   ]
  },
  {
   "cell_type": "markdown",
   "id": "0a47373f",
   "metadata": {
    "papermill": {
     "duration": 0.003417,
     "end_time": "2025-04-28T20:44:14.337995",
     "exception": false,
     "start_time": "2025-04-28T20:44:14.334578",
     "status": "completed"
    },
    "tags": []
   },
   "source": [
    "## Downloading the Stack Overflow Dataset"
   ]
  },
  {
   "cell_type": "code",
   "execution_count": 2,
   "id": "6c9cd042",
   "metadata": {
    "execution": {
     "iopub.execute_input": "2025-04-28T20:44:14.348800Z",
     "iopub.status.busy": "2025-04-28T20:44:14.348145Z",
     "iopub.status.idle": "2025-04-28T20:44:14.352852Z",
     "shell.execute_reply": "2025-04-28T20:44:14.351896Z"
    },
    "papermill": {
     "duration": 0.011219,
     "end_time": "2025-04-28T20:44:14.354435",
     "exception": false,
     "start_time": "2025-04-28T20:44:14.343216",
     "status": "completed"
    },
    "tags": []
   },
   "outputs": [],
   "source": [
    "tar_path = '/kaggle/input/stack-overflow/stack_overflow_16k.tar.gz'\n",
    "\n",
    "\n"
   ]
  },
  {
   "cell_type": "code",
   "execution_count": 3,
   "id": "0cf7dac2",
   "metadata": {
    "execution": {
     "iopub.execute_input": "2025-04-28T20:44:14.363268Z",
     "iopub.status.busy": "2025-04-28T20:44:14.362957Z",
     "iopub.status.idle": "2025-04-28T20:44:14.368487Z",
     "shell.execute_reply": "2025-04-28T20:44:14.367508Z"
    },
    "papermill": {
     "duration": 0.011559,
     "end_time": "2025-04-28T20:44:14.369819",
     "exception": false,
     "start_time": "2025-04-28T20:44:14.358260",
     "status": "completed"
    },
    "tags": []
   },
   "outputs": [
    {
     "name": "stdout",
     "output_type": "stream",
     "text": [
      "['__notebook__.ipynb']\n"
     ]
    }
   ],
   "source": [
    "import os\n",
    "print(os.listdir('/kaggle/working'))"
   ]
  },
  {
   "cell_type": "code",
   "execution_count": 4,
   "id": "003377e6",
   "metadata": {
    "execution": {
     "iopub.execute_input": "2025-04-28T20:44:14.378858Z",
     "iopub.status.busy": "2025-04-28T20:44:14.378482Z",
     "iopub.status.idle": "2025-04-28T20:44:14.384559Z",
     "shell.execute_reply": "2025-04-28T20:44:14.383553Z"
    },
    "papermill": {
     "duration": 0.012413,
     "end_time": "2025-04-28T20:44:14.386103",
     "exception": false,
     "start_time": "2025-04-28T20:44:14.373690",
     "status": "completed"
    },
    "tags": []
   },
   "outputs": [
    {
     "name": "stdout",
     "output_type": "stream",
     "text": [
      "Already extracted.\n"
     ]
    }
   ],
   "source": [
    "# Path where your uploaded file is located\n",
    "stack_overflow_tar = '/kaggle/working/stack_overflow_16k.tar.gz'\n",
    "\n",
    "# 1. Extract the tar.gz file if not already extracted\n",
    "if not os.path.exists('/kaggle/input/stack-overflow'):\n",
    "    with tarfile.open(stack_overflow_tar, 'r:gz') as tar:\n",
    "        tar.extractall(path='/kaggle/working/')\n",
    "    print(\"Extraction complete!\")\n",
    "else:\n",
    "    print(\"Already extracted.\")"
   ]
  },
  {
   "cell_type": "markdown",
   "id": "1a6720de",
   "metadata": {
    "papermill": {
     "duration": 0.003511,
     "end_time": "2025-04-28T20:44:14.393514",
     "exception": false,
     "start_time": "2025-04-28T20:44:14.390003",
     "status": "completed"
    },
    "tags": []
   },
   "source": [
    "stack_overflow/\n",
    " ├── train/\n",
    " │    ├── python/\n",
    " │    ├── javascript/\n",
    " │    ├── java/\n",
    " │    └── csharp/\n",
    " └── test/\n"
   ]
  },
  {
   "cell_type": "markdown",
   "id": "ddc9bb59",
   "metadata": {
    "papermill": {
     "duration": 0.003567,
     "end_time": "2025-04-28T20:44:14.400806",
     "exception": false,
     "start_time": "2025-04-28T20:44:14.397239",
     "status": "completed"
    },
    "tags": []
   },
   "source": [
    "## Preparing the dataset"
   ]
  },
  {
   "cell_type": "code",
   "execution_count": 5,
   "id": "439c3dfe",
   "metadata": {
    "execution": {
     "iopub.execute_input": "2025-04-28T20:44:14.409928Z",
     "iopub.status.busy": "2025-04-28T20:44:14.409074Z",
     "iopub.status.idle": "2025-04-28T20:44:19.472481Z",
     "shell.execute_reply": "2025-04-28T20:44:19.471504Z"
    },
    "papermill": {
     "duration": 5.069623,
     "end_time": "2025-04-28T20:44:19.474111",
     "exception": false,
     "start_time": "2025-04-28T20:44:14.404488",
     "status": "completed"
    },
    "tags": []
   },
   "outputs": [
    {
     "name": "stdout",
     "output_type": "stream",
     "text": [
      "Found 8000 files belonging to 4 classes.\n",
      "Using 6400 files for training.\n"
     ]
    },
    {
     "name": "stderr",
     "output_type": "stream",
     "text": [
      "2025-04-28 20:44:16.728075: E external/local_xla/xla/stream_executor/cuda/cuda_driver.cc:152] failed call to cuInit: INTERNAL: CUDA error: Failed call to cuInit: UNKNOWN ERROR (303)\n"
     ]
    },
    {
     "name": "stdout",
     "output_type": "stream",
     "text": [
      "Found 8000 files belonging to 4 classes.\n",
      "Using 1600 files for validation.\n",
      "Found 8000 files belonging to 4 classes.\n",
      "Datasets prepared successfully!\n"
     ]
    }
   ],
   "source": [
    "# 2. Set batch size and seed\n",
    "batch_size = 32\n",
    "seed = 42\n",
    "\n",
    "# 3. Create training, validation, and test datasets\n",
    "train_ds = tf.keras.utils.text_dataset_from_directory(\n",
    "    '/kaggle/input/stack-overflow/train',\n",
    "    batch_size=batch_size,\n",
    "    validation_split=0.2,\n",
    "    subset='training',\n",
    "    seed=seed\n",
    ")\n",
    "\n",
    "val_ds = tf.keras.utils.text_dataset_from_directory(\n",
    "    '/kaggle/input/stack-overflow/train',\n",
    "    batch_size=batch_size,\n",
    "    validation_split=0.2,\n",
    "    subset='validation',\n",
    "    seed=seed\n",
    ")\n",
    "\n",
    "test_ds = tf.keras.utils.text_dataset_from_directory(\n",
    "    '/kaggle/input/stack-overflow/test',\n",
    "    batch_size=batch_size\n",
    ")\n",
    "\n",
    "print(\"Datasets prepared successfully!\")"
   ]
  },
  {
   "cell_type": "markdown",
   "id": "210991e5",
   "metadata": {
    "papermill": {
     "duration": 0.004322,
     "end_time": "2025-04-28T20:44:19.483106",
     "exception": false,
     "start_time": "2025-04-28T20:44:19.478784",
     "status": "completed"
    },
    "tags": []
   },
   "source": [
    "# Updating the Model Architecture\n"
   ]
  },
  {
   "cell_type": "code",
   "execution_count": 6,
   "id": "5e1eaab3",
   "metadata": {
    "execution": {
     "iopub.execute_input": "2025-04-28T20:44:19.493029Z",
     "iopub.status.busy": "2025-04-28T20:44:19.492419Z",
     "iopub.status.idle": "2025-04-28T20:44:24.465847Z",
     "shell.execute_reply": "2025-04-28T20:44:24.464848Z"
    },
    "papermill": {
     "duration": 4.98031,
     "end_time": "2025-04-28T20:44:24.467607",
     "exception": false,
     "start_time": "2025-04-28T20:44:19.487297",
     "status": "completed"
    },
    "tags": []
   },
   "outputs": [],
   "source": [
    "from tensorflow.keras import layers\n",
    "\n",
    "# Create a text vectorization layer\n",
    "max_features = 10000\n",
    "sequence_length = 250\n",
    "\n",
    "vectorize_layer = layers.TextVectorization(\n",
    "    max_tokens=max_features,\n",
    "    output_mode='int',\n",
    "    output_sequence_length=sequence_length)\n",
    "\n",
    "# Make a text-only dataset (without labels) for adapt()\n",
    "train_text = train_ds.map(lambda x, y: x)\n",
    "vectorize_layer.adapt(train_text)\n",
    "\n",
    "# Build the model\n",
    "model = tf.keras.Sequential([\n",
    "    vectorize_layer,\n",
    "    layers.Embedding(max_features + 1, 16),\n",
    "    layers.Dropout(0.2),\n",
    "    layers.GlobalAveragePooling1D(),\n",
    "    layers.Dropout(0.2),\n",
    "    layers.Dense(4)  \n",
    "])"
   ]
  },
  {
   "cell_type": "markdown",
   "id": "30e3183c",
   "metadata": {
    "papermill": {
     "duration": 0.003861,
     "end_time": "2025-04-28T20:44:24.475839",
     "exception": false,
     "start_time": "2025-04-28T20:44:24.471978",
     "status": "completed"
    },
    "tags": []
   },
   "source": [
    "# Model Compilation\n",
    "\n",
    "updating the model loss function and metrics"
   ]
  },
  {
   "cell_type": "code",
   "execution_count": 7,
   "id": "1e326020",
   "metadata": {
    "execution": {
     "iopub.execute_input": "2025-04-28T20:44:24.485860Z",
     "iopub.status.busy": "2025-04-28T20:44:24.485479Z",
     "iopub.status.idle": "2025-04-28T20:44:24.504516Z",
     "shell.execute_reply": "2025-04-28T20:44:24.503680Z"
    },
    "papermill": {
     "duration": 0.026029,
     "end_time": "2025-04-28T20:44:24.506095",
     "exception": false,
     "start_time": "2025-04-28T20:44:24.480066",
     "status": "completed"
    },
    "tags": []
   },
   "outputs": [],
   "source": [
    "model.compile(\n",
    "    loss=tf.keras.losses.SparseCategoricalCrossentropy(from_logits=True),\n",
    "    optimizer='adam',\n",
    "    metrics=['accuracy'])  # Changed from BinaryAccuracy to accuracy"
   ]
  },
  {
   "cell_type": "code",
   "execution_count": 8,
   "id": "1c787f5e",
   "metadata": {
    "execution": {
     "iopub.execute_input": "2025-04-28T20:44:24.515900Z",
     "iopub.status.busy": "2025-04-28T20:44:24.515531Z",
     "iopub.status.idle": "2025-04-28T20:44:24.534240Z",
     "shell.execute_reply": "2025-04-28T20:44:24.533321Z"
    },
    "papermill": {
     "duration": 0.025427,
     "end_time": "2025-04-28T20:44:24.535772",
     "exception": false,
     "start_time": "2025-04-28T20:44:24.510345",
     "status": "completed"
    },
    "tags": []
   },
   "outputs": [
    {
     "data": {
      "text/html": [
       "<pre style=\"white-space:pre;overflow-x:auto;line-height:normal;font-family:Menlo,'DejaVu Sans Mono',consolas,'Courier New',monospace\"><span style=\"font-weight: bold\">Model: \"sequential\"</span>\n",
       "</pre>\n"
      ],
      "text/plain": [
       "\u001b[1mModel: \"sequential\"\u001b[0m\n"
      ]
     },
     "metadata": {},
     "output_type": "display_data"
    },
    {
     "data": {
      "text/html": [
       "<pre style=\"white-space:pre;overflow-x:auto;line-height:normal;font-family:Menlo,'DejaVu Sans Mono',consolas,'Courier New',monospace\">┏━━━━━━━━━━━━━━━━━━━━━━━━━━━━━━━━━━━━━━┳━━━━━━━━━━━━━━━━━━━━━━━━━━━━━┳━━━━━━━━━━━━━━━━━┓\n",
       "┃<span style=\"font-weight: bold\"> Layer (type)                         </span>┃<span style=\"font-weight: bold\"> Output Shape                </span>┃<span style=\"font-weight: bold\">         Param # </span>┃\n",
       "┡━━━━━━━━━━━━━━━━━━━━━━━━━━━━━━━━━━━━━━╇━━━━━━━━━━━━━━━━━━━━━━━━━━━━━╇━━━━━━━━━━━━━━━━━┩\n",
       "│ text_vectorization                   │ ?                           │     <span style=\"color: #00af00; text-decoration-color: #00af00\">0</span> (unbuilt) │\n",
       "│ (<span style=\"color: #0087ff; text-decoration-color: #0087ff\">TextVectorization</span>)                  │                             │                 │\n",
       "├──────────────────────────────────────┼─────────────────────────────┼─────────────────┤\n",
       "│ embedding (<span style=\"color: #0087ff; text-decoration-color: #0087ff\">Embedding</span>)                │ ?                           │     <span style=\"color: #00af00; text-decoration-color: #00af00\">0</span> (unbuilt) │\n",
       "├──────────────────────────────────────┼─────────────────────────────┼─────────────────┤\n",
       "│ dropout (<span style=\"color: #0087ff; text-decoration-color: #0087ff\">Dropout</span>)                    │ ?                           │     <span style=\"color: #00af00; text-decoration-color: #00af00\">0</span> (unbuilt) │\n",
       "├──────────────────────────────────────┼─────────────────────────────┼─────────────────┤\n",
       "│ global_average_pooling1d             │ ?                           │     <span style=\"color: #00af00; text-decoration-color: #00af00\">0</span> (unbuilt) │\n",
       "│ (<span style=\"color: #0087ff; text-decoration-color: #0087ff\">GlobalAveragePooling1D</span>)             │                             │                 │\n",
       "├──────────────────────────────────────┼─────────────────────────────┼─────────────────┤\n",
       "│ dropout_1 (<span style=\"color: #0087ff; text-decoration-color: #0087ff\">Dropout</span>)                  │ ?                           │     <span style=\"color: #00af00; text-decoration-color: #00af00\">0</span> (unbuilt) │\n",
       "├──────────────────────────────────────┼─────────────────────────────┼─────────────────┤\n",
       "│ dense (<span style=\"color: #0087ff; text-decoration-color: #0087ff\">Dense</span>)                        │ ?                           │     <span style=\"color: #00af00; text-decoration-color: #00af00\">0</span> (unbuilt) │\n",
       "└──────────────────────────────────────┴─────────────────────────────┴─────────────────┘\n",
       "</pre>\n"
      ],
      "text/plain": [
       "┏━━━━━━━━━━━━━━━━━━━━━━━━━━━━━━━━━━━━━━┳━━━━━━━━━━━━━━━━━━━━━━━━━━━━━┳━━━━━━━━━━━━━━━━━┓\n",
       "┃\u001b[1m \u001b[0m\u001b[1mLayer (type)                        \u001b[0m\u001b[1m \u001b[0m┃\u001b[1m \u001b[0m\u001b[1mOutput Shape               \u001b[0m\u001b[1m \u001b[0m┃\u001b[1m \u001b[0m\u001b[1m        Param #\u001b[0m\u001b[1m \u001b[0m┃\n",
       "┡━━━━━━━━━━━━━━━━━━━━━━━━━━━━━━━━━━━━━━╇━━━━━━━━━━━━━━━━━━━━━━━━━━━━━╇━━━━━━━━━━━━━━━━━┩\n",
       "│ text_vectorization                   │ ?                           │     \u001b[38;5;34m0\u001b[0m (unbuilt) │\n",
       "│ (\u001b[38;5;33mTextVectorization\u001b[0m)                  │                             │                 │\n",
       "├──────────────────────────────────────┼─────────────────────────────┼─────────────────┤\n",
       "│ embedding (\u001b[38;5;33mEmbedding\u001b[0m)                │ ?                           │     \u001b[38;5;34m0\u001b[0m (unbuilt) │\n",
       "├──────────────────────────────────────┼─────────────────────────────┼─────────────────┤\n",
       "│ dropout (\u001b[38;5;33mDropout\u001b[0m)                    │ ?                           │     \u001b[38;5;34m0\u001b[0m (unbuilt) │\n",
       "├──────────────────────────────────────┼─────────────────────────────┼─────────────────┤\n",
       "│ global_average_pooling1d             │ ?                           │     \u001b[38;5;34m0\u001b[0m (unbuilt) │\n",
       "│ (\u001b[38;5;33mGlobalAveragePooling1D\u001b[0m)             │                             │                 │\n",
       "├──────────────────────────────────────┼─────────────────────────────┼─────────────────┤\n",
       "│ dropout_1 (\u001b[38;5;33mDropout\u001b[0m)                  │ ?                           │     \u001b[38;5;34m0\u001b[0m (unbuilt) │\n",
       "├──────────────────────────────────────┼─────────────────────────────┼─────────────────┤\n",
       "│ dense (\u001b[38;5;33mDense\u001b[0m)                        │ ?                           │     \u001b[38;5;34m0\u001b[0m (unbuilt) │\n",
       "└──────────────────────────────────────┴─────────────────────────────┴─────────────────┘\n"
      ]
     },
     "metadata": {},
     "output_type": "display_data"
    },
    {
     "data": {
      "text/html": [
       "<pre style=\"white-space:pre;overflow-x:auto;line-height:normal;font-family:Menlo,'DejaVu Sans Mono',consolas,'Courier New',monospace\"><span style=\"font-weight: bold\"> Total params: </span><span style=\"color: #00af00; text-decoration-color: #00af00\">0</span> (0.00 B)\n",
       "</pre>\n"
      ],
      "text/plain": [
       "\u001b[1m Total params: \u001b[0m\u001b[38;5;34m0\u001b[0m (0.00 B)\n"
      ]
     },
     "metadata": {},
     "output_type": "display_data"
    },
    {
     "data": {
      "text/html": [
       "<pre style=\"white-space:pre;overflow-x:auto;line-height:normal;font-family:Menlo,'DejaVu Sans Mono',consolas,'Courier New',monospace\"><span style=\"font-weight: bold\"> Trainable params: </span><span style=\"color: #00af00; text-decoration-color: #00af00\">0</span> (0.00 B)\n",
       "</pre>\n"
      ],
      "text/plain": [
       "\u001b[1m Trainable params: \u001b[0m\u001b[38;5;34m0\u001b[0m (0.00 B)\n"
      ]
     },
     "metadata": {},
     "output_type": "display_data"
    },
    {
     "data": {
      "text/html": [
       "<pre style=\"white-space:pre;overflow-x:auto;line-height:normal;font-family:Menlo,'DejaVu Sans Mono',consolas,'Courier New',monospace\"><span style=\"font-weight: bold\"> Non-trainable params: </span><span style=\"color: #00af00; text-decoration-color: #00af00\">0</span> (0.00 B)\n",
       "</pre>\n"
      ],
      "text/plain": [
       "\u001b[1m Non-trainable params: \u001b[0m\u001b[38;5;34m0\u001b[0m (0.00 B)\n"
      ]
     },
     "metadata": {},
     "output_type": "display_data"
    }
   ],
   "source": [
    "model.summary()"
   ]
  },
  {
   "cell_type": "markdown",
   "id": "0905daf2",
   "metadata": {
    "papermill": {
     "duration": 0.004439,
     "end_time": "2025-04-28T20:44:24.545500",
     "exception": false,
     "start_time": "2025-04-28T20:44:24.541061",
     "status": "completed"
    },
    "tags": []
   },
   "source": [
    "# Training the model\n",
    "\n",
    "The output will reflect multi-class metrics"
   ]
  },
  {
   "cell_type": "code",
   "execution_count": 9,
   "id": "ed6e04d3",
   "metadata": {
    "execution": {
     "iopub.execute_input": "2025-04-28T20:44:24.556227Z",
     "iopub.status.busy": "2025-04-28T20:44:24.555880Z",
     "iopub.status.idle": "2025-04-28T20:44:52.979957Z",
     "shell.execute_reply": "2025-04-28T20:44:52.978908Z"
    },
    "papermill": {
     "duration": 28.431453,
     "end_time": "2025-04-28T20:44:52.981666",
     "exception": false,
     "start_time": "2025-04-28T20:44:24.550213",
     "status": "completed"
    },
    "tags": []
   },
   "outputs": [
    {
     "name": "stdout",
     "output_type": "stream",
     "text": [
      "Epoch 1/10\n",
      "\u001b[1m200/200\u001b[0m \u001b[32m━━━━━━━━━━━━━━━━━━━━\u001b[0m\u001b[37m\u001b[0m \u001b[1m7s\u001b[0m 25ms/step - accuracy: 0.3028 - loss: 1.3793 - val_accuracy: 0.3681 - val_loss: 1.3558\n",
      "Epoch 2/10\n",
      "\u001b[1m200/200\u001b[0m \u001b[32m━━━━━━━━━━━━━━━━━━━━\u001b[0m\u001b[37m\u001b[0m \u001b[1m4s\u001b[0m 21ms/step - accuracy: 0.4039 - loss: 1.3414 - val_accuracy: 0.4656 - val_loss: 1.3035\n",
      "Epoch 3/10\n",
      "\u001b[1m200/200\u001b[0m \u001b[32m━━━━━━━━━━━━━━━━━━━━\u001b[0m\u001b[37m\u001b[0m \u001b[1m2s\u001b[0m 10ms/step - accuracy: 0.4893 - loss: 1.2838 - val_accuracy: 0.5362 - val_loss: 1.2292\n",
      "Epoch 4/10\n",
      "\u001b[1m200/200\u001b[0m \u001b[32m━━━━━━━━━━━━━━━━━━━━\u001b[0m\u001b[37m\u001b[0m \u001b[1m2s\u001b[0m 11ms/step - accuracy: 0.5494 - loss: 1.2083 - val_accuracy: 0.6350 - val_loss: 1.1376\n",
      "Epoch 5/10\n",
      "\u001b[1m200/200\u001b[0m \u001b[32m━━━━━━━━━━━━━━━━━━━━\u001b[0m\u001b[37m\u001b[0m \u001b[1m2s\u001b[0m 11ms/step - accuracy: 0.6131 - loss: 1.1177 - val_accuracy: 0.7056 - val_loss: 1.0558\n",
      "Epoch 6/10\n",
      "\u001b[1m200/200\u001b[0m \u001b[32m━━━━━━━━━━━━━━━━━━━━\u001b[0m\u001b[37m\u001b[0m \u001b[1m2s\u001b[0m 10ms/step - accuracy: 0.6643 - loss: 1.0316 - val_accuracy: 0.6831 - val_loss: 0.9757\n",
      "Epoch 7/10\n",
      "\u001b[1m200/200\u001b[0m \u001b[32m━━━━━━━━━━━━━━━━━━━━\u001b[0m\u001b[37m\u001b[0m \u001b[1m2s\u001b[0m 10ms/step - accuracy: 0.6938 - loss: 0.9589 - val_accuracy: 0.7331 - val_loss: 0.9109\n",
      "Epoch 8/10\n",
      "\u001b[1m200/200\u001b[0m \u001b[32m━━━━━━━━━━━━━━━━━━━━\u001b[0m\u001b[37m\u001b[0m \u001b[1m2s\u001b[0m 10ms/step - accuracy: 0.7230 - loss: 0.8905 - val_accuracy: 0.7469 - val_loss: 0.8566\n",
      "Epoch 9/10\n",
      "\u001b[1m200/200\u001b[0m \u001b[32m━━━━━━━━━━━━━━━━━━━━\u001b[0m\u001b[37m\u001b[0m \u001b[1m2s\u001b[0m 10ms/step - accuracy: 0.7354 - loss: 0.8336 - val_accuracy: 0.7569 - val_loss: 0.8115\n",
      "Epoch 10/10\n",
      "\u001b[1m200/200\u001b[0m \u001b[32m━━━━━━━━━━━━━━━━━━━━\u001b[0m\u001b[37m\u001b[0m \u001b[1m2s\u001b[0m 10ms/step - accuracy: 0.7597 - loss: 0.7841 - val_accuracy: 0.7544 - val_loss: 0.7709\n"
     ]
    }
   ],
   "source": [
    "early_stopping = tf.keras.callbacks.EarlyStopping(\n",
    "    monitor='val_loss',\n",
    "    patience=3,\n",
    "    restore_best_weights=True\n",
    ")\n",
    "\n",
    "epochs = 10\n",
    "history = model.fit(\n",
    "    train_ds,\n",
    "    validation_data=val_ds,\n",
    "    verbose=1,\n",
    "    epochs=epochs,\n",
    "    callbacks=[early_stopping]\n",
    ")\n"
   ]
  },
  {
   "cell_type": "markdown",
   "id": "5a181c7f",
   "metadata": {
    "papermill": {
     "duration": 0.023475,
     "end_time": "2025-04-28T20:44:53.029192",
     "exception": false,
     "start_time": "2025-04-28T20:44:53.005717",
     "status": "completed"
    },
    "tags": []
   },
   "source": [
    "# Evaluating the model"
   ]
  },
  {
   "cell_type": "code",
   "execution_count": 10,
   "id": "3215cff0",
   "metadata": {
    "execution": {
     "iopub.execute_input": "2025-04-28T20:44:53.075665Z",
     "iopub.status.busy": "2025-04-28T20:44:53.075331Z",
     "iopub.status.idle": "2025-04-28T20:44:58.322426Z",
     "shell.execute_reply": "2025-04-28T20:44:58.321482Z"
    },
    "papermill": {
     "duration": 5.272252,
     "end_time": "2025-04-28T20:44:58.324131",
     "exception": false,
     "start_time": "2025-04-28T20:44:53.051879",
     "status": "completed"
    },
    "tags": []
   },
   "outputs": [
    {
     "name": "stdout",
     "output_type": "stream",
     "text": [
      "\u001b[1m250/250\u001b[0m \u001b[32m━━━━━━━━━━━━━━━━━━━━\u001b[0m\u001b[37m\u001b[0m \u001b[1m5s\u001b[0m 21ms/step - accuracy: 0.7299 - loss: 0.8014\n",
      "\n",
      " Test Loss:  0.8034055233001709\n",
      "\n",
      " Test Accuracy:  0.734250009059906\n"
     ]
    }
   ],
   "source": [
    "test_loss, test_acc = model.evaluate(test_ds)\n",
    "\n",
    "print(\"\\n Test Loss: \", test_loss)\n",
    "print(\"\\n Test Accuracy: \", test_acc)"
   ]
  },
  {
   "cell_type": "markdown",
   "id": "375bc366",
   "metadata": {
    "papermill": {
     "duration": 0.02606,
     "end_time": "2025-04-28T20:44:58.377204",
     "exception": false,
     "start_time": "2025-04-28T20:44:58.351144",
     "status": "completed"
    },
    "tags": []
   },
   "source": [
    "# Creating a plot of accuracy and loss over time"
   ]
  },
  {
   "cell_type": "code",
   "execution_count": 11,
   "id": "c0d00c7e",
   "metadata": {
    "execution": {
     "iopub.execute_input": "2025-04-28T20:44:58.430809Z",
     "iopub.status.busy": "2025-04-28T20:44:58.430444Z",
     "iopub.status.idle": "2025-04-28T20:44:58.886482Z",
     "shell.execute_reply": "2025-04-28T20:44:58.885537Z"
    },
    "papermill": {
     "duration": 0.485145,
     "end_time": "2025-04-28T20:44:58.888484",
     "exception": false,
     "start_time": "2025-04-28T20:44:58.403339",
     "status": "completed"
    },
    "tags": []
   },
   "outputs": [
    {
     "data": {
      "image/png": "[encoded data removed]",
      "text/plain": [
       "<Figure size 1400x600 with 2 Axes>"
      ]
     },
     "metadata": {},
     "output_type": "display_data"
    }
   ],
   "source": [
    "import matplotlib.pyplot as plt\n",
    "\n",
    "#Extract history values\n",
    "acc = history.history['accuracy']\n",
    "val_acc = history.history['val_accuracy']\n",
    "\n",
    "loss = history.history['loss']\n",
    "val_loss = history.history['val_loss']\n",
    "\n",
    "epochs_range = range(len(acc))\n",
    "\n",
    "# Plotting the curves\n",
    "plt.figure(figsize=(14,6))\n",
    "\n",
    "#Accuracy plot\n",
    "plt.subplot(1, 2, 1)\n",
    "# \"bo\" is for \"blue dot\"\n",
    "plt.plot(epochs_range, acc, 'bo', label='Training Accuracy')\n",
    "# \"b\" is for \"blue dot\"\n",
    "plt.plot(epochs_range, val_acc, 'b', label='Validation Accuracy') \n",
    "plt.legend(loc='lower right')\n",
    "plt.xlabel('Epochs')\n",
    "plt.ylabel('Accuracy')\n",
    "plt.title('Training and Validation Accuracy')\n",
    "\n",
    "# Loss plot\n",
    "plt.subplot(1, 2, 2)\n",
    "# \"bo\" is for \"blue dot\"\n",
    "plt.plot(epochs_range, loss, 'bo', label='Training Loss')\n",
    "# \"b\" is for \"blue dot\"\n",
    "plt.plot(epochs_range, val_loss, 'b', label='Validation Loss') \n",
    "plt.legend(loc='upper right')\n",
    "plt.xlabel('Epochs')\n",
    "plt.ylabel('Loss')\n",
    "plt.title('Training and Validation Loss')\n",
    "\n",
    "plt.show()"
   ]
  },
  {
   "cell_type": "markdown",
   "id": "2fe8ace5",
   "metadata": {
    "papermill": {
     "duration": 0.027042,
     "end_time": "2025-04-28T20:44:58.943303",
     "exception": false,
     "start_time": "2025-04-28T20:44:58.916261",
     "status": "completed"
    },
    "tags": []
   },
   "source": [
    "# Accuracy Curves\n",
    "The accuracy curves, both training and validation, generally exhibit an upward trend over epochs. This indicates that the model is learning and improving its performance on the training and validation datasets.\n",
    "\n",
    "# Training Accuracy: \n",
    "Usually increases steadily, and may approach very high values (close to 1.0) as training progresses. This reflects the model's increasing ability to correctly classify the training data it has seen repeatedly.\n",
    "\n",
    "# Validation Accuracy: \n",
    "Ideally increases alongside training accuracy, but typically at a slightly slower rate and might plateau earlier. This shows how well the model generalizes to unseen data (validation set). If the validation accuracy stagnates or starts to decrease while the training accuracy keeps increasing, it suggests overfitting.\n",
    "# Loss Curves\n",
    "The loss curves, both training and validation, generally exhibit a downward trend over epochs. This indicates that the model is minimizing the errors it makes during training and validation.\n",
    "\n",
    "# Training Loss: \n",
    "Usually decreases steadily as the model learns to make better predictions on the training data.\n",
    "# Validation Loss: \n",
    "Ideally decreases alongside training loss, but may start to increase or plateau at some point. This is a key indicator for overfitting - when the model starts to memorize the training data instead of learning general patterns.\n",
    "# Overfitting and Ideal Shapes\n",
    "Ideally, we want both the training and validation curves to improve and converge. This indicates a well-generalizing model.\n",
    "\n",
    "**Overfitting** is observed when the training accuracy/loss continues to improve while the validation accuracy/loss stagnates or worsens. This means the model is becoming too specialized to the training data and performs poorly on unseen data. The validation curves would show a flattening or even an upward trend (for loss) or a downward trend (for accuracy) after a certain number of epochs."
   ]
  }
 ],
 "metadata": {
  "kaggle": {
   "accelerator": "none",
   "dataSources": [
    {
     "datasetId": 7278648,
     "sourceId": 11604764,
     "sourceType": "datasetVersion"
    }
   ],
   "isGpuEnabled": false,
   "isInternetEnabled": true,
   "language": "python",
   "sourceType": "notebook"
  },
  "kernelspec": {
   "display_name": "Python 3",
   "language": "python",
   "name": "python3"
  },
  "language_info": {
   "codemirror_mode": {
    "name": "ipython",
    "version": 3
   },
   "file_extension": ".py",
   "mimetype": "text/x-python",
   "name": "python",
   "nbconvert_exporter": "python",
   "pygments_lexer": "ipython3",
   "version": "3.11.11"
  },
  "papermill": {
   "default_parameters": {},
   "duration": 72.207346,
   "end_time": "2025-04-28T20:45:01.858569",
   "environment_variables": {},
   "exception": null,
   "input_path": "__notebook__.ipynb",
   "output_path": "__notebook__.ipynb",
   "parameters": {},
   "start_time": "2025-04-28T20:43:49.651223",
   "version": "2.6.0"
  }
 },
 "nbformat": 4,
 "nbformat_minor": 5
}
