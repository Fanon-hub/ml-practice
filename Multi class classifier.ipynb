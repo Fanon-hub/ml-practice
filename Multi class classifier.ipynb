{
 "cells": [
  {
   "cell_type": "markdown",
   "id": "5f75ace5",
   "metadata": {
    "papermill": {
     "duration": 0.004812,
     "end_time": "2025-04-28T20:36:13.755988",
     "exception": false,
     "start_time": "2025-04-28T20:36:13.751176",
     "status": "completed"
    },
    "tags": []
   },
   "source": [
    "## Importing Important Liraries"
   ]
  },
  {
   "cell_type": "code",
   "execution_count": 1,
   "id": "0e146c3e",
   "metadata": {
    "execution": {
     "iopub.execute_input": "2025-04-28T20:36:13.765650Z",
     "iopub.status.busy": "2025-04-28T20:36:13.765189Z",
     "iopub.status.idle": "2025-04-28T20:36:32.694868Z",
     "shell.execute_reply": "2025-04-28T20:36:32.693665Z"
    },
    "papermill": {
     "duration": 18.936684,
     "end_time": "2025-04-28T20:36:32.696667",
     "exception": false,
     "start_time": "2025-04-28T20:36:13.759983",
     "status": "completed"
    },
    "tags": []
   },
   "outputs": [
    {
     "name": "stderr",
     "output_type": "stream",
     "text": [
      "2025-04-28 20:36:15.637496: E external/local_xla/xla/stream_executor/cuda/cuda_fft.cc:477] Unable to register cuFFT factory: Attempting to register factory for plugin cuFFT when one has already been registered\n",
      "WARNING: All log messages before absl::InitializeLog() is called are written to STDERR\n",
      "E0000 00:00:1745872575.892504      13 cuda_dnn.cc:8310] Unable to register cuDNN factory: Attempting to register factory for plugin cuDNN when one has already been registered\n",
      "E0000 00:00:1745872575.960380      13 cuda_blas.cc:1418] Unable to register cuBLAS factory: Attempting to register factory for plugin cuBLAS when one has already been registered\n"
     ]
    },
    {
     "name": "stdout",
     "output_type": "stream",
     "text": [
      "2.18.0\n"
     ]
    }
   ],
   "source": [
    "import os\n",
    "import tarfile\n",
    "import urllib.request\n",
    "import tensorflow as tf\n",
    "\n",
    "print (tf. __version__ )\n"
   ]
  },
  {
   "cell_type": "markdown",
   "id": "d1e1806b",
   "metadata": {
    "papermill": {
     "duration": 0.003559,
     "end_time": "2025-04-28T20:36:32.704756",
     "exception": false,
     "start_time": "2025-04-28T20:36:32.701197",
     "status": "completed"
    },
    "tags": []
   },
   "source": [
    "## Downloading the Stack Overflow Dataset"
   ]
  },
  {
   "cell_type": "code",
   "execution_count": 2,
   "id": "3b16922b",
   "metadata": {
    "execution": {
     "iopub.execute_input": "2025-04-28T20:36:32.714028Z",
     "iopub.status.busy": "2025-04-28T20:36:32.713386Z",
     "iopub.status.idle": "2025-04-28T20:36:32.717885Z",
     "shell.execute_reply": "2025-04-28T20:36:32.717134Z"
    },
    "papermill": {
     "duration": 0.010579,
     "end_time": "2025-04-28T20:36:32.719204",
     "exception": false,
     "start_time": "2025-04-28T20:36:32.708625",
     "status": "completed"
    },
    "tags": []
   },
   "outputs": [],
   "source": [
    "tar_path = '/kaggle/input/stack-overflow/stack_overflow_16k.tar.gz'\n",
    "\n",
    "\n"
   ]
  },
  {
   "cell_type": "code",
   "execution_count": 3,
   "id": "65a6854f",
   "metadata": {
    "execution": {
     "iopub.execute_input": "2025-04-28T20:36:32.728003Z",
     "iopub.status.busy": "2025-04-28T20:36:32.727693Z",
     "iopub.status.idle": "2025-04-28T20:36:32.732824Z",
     "shell.execute_reply": "2025-04-28T20:36:32.731784Z"
    },
    "papermill": {
     "duration": 0.011193,
     "end_time": "2025-04-28T20:36:32.734246",
     "exception": false,
     "start_time": "2025-04-28T20:36:32.723053",
     "status": "completed"
    },
    "tags": []
   },
   "outputs": [
    {
     "name": "stdout",
     "output_type": "stream",
     "text": [
      "['__notebook__.ipynb']\n"
     ]
    }
   ],
   "source": [
    "import os\n",
    "print(os.listdir('/kaggle/working'))"
   ]
  },
  {
   "cell_type": "code",
   "execution_count": 4,
   "id": "4e72a589",
   "metadata": {
    "execution": {
     "iopub.execute_input": "2025-04-28T20:36:32.743644Z",
     "iopub.status.busy": "2025-04-28T20:36:32.742936Z",
     "iopub.status.idle": "2025-04-28T20:36:32.749072Z",
     "shell.execute_reply": "2025-04-28T20:36:32.748135Z"
    },
    "papermill": {
     "duration": 0.012276,
     "end_time": "2025-04-28T20:36:32.750419",
     "exception": false,
     "start_time": "2025-04-28T20:36:32.738143",
     "status": "completed"
    },
    "tags": []
   },
   "outputs": [
    {
     "name": "stdout",
     "output_type": "stream",
     "text": [
      "Already extracted.\n"
     ]
    }
   ],
   "source": [
    "# Path where your uploaded file is located\n",
    "stack_overflow_tar = '/kaggle/working/stack_overflow_16k.tar.gz'\n",
    "\n",
    "# 1. Extract the tar.gz file if not already extracted\n",
    "if not os.path.exists('/kaggle/input/stack-overflow'):\n",
    "    with tarfile.open(stack_overflow_tar, 'r:gz') as tar:\n",
    "        tar.extractall(path='/kaggle/working/')\n",
    "    print(\"Extraction complete!\")\n",
    "else:\n",
    "    print(\"Already extracted.\")"
   ]
  },
  {
   "cell_type": "markdown",
   "id": "8cffe64c",
   "metadata": {
    "papermill": {
     "duration": 0.003533,
     "end_time": "2025-04-28T20:36:32.757869",
     "exception": false,
     "start_time": "2025-04-28T20:36:32.754336",
     "status": "completed"
    },
    "tags": []
   },
   "source": [
    "stack_overflow/\n",
    " ├── train/\n",
    " │    ├── python/\n",
    " │    ├── javascript/\n",
    " │    ├── java/\n",
    " │    └── csharp/\n",
    " └── test/\n"
   ]
  },
  {
   "cell_type": "markdown",
   "id": "639603dd",
   "metadata": {
    "papermill": {
     "duration": 0.003538,
     "end_time": "2025-04-28T20:36:32.765216",
     "exception": false,
     "start_time": "2025-04-28T20:36:32.761678",
     "status": "completed"
    },
    "tags": []
   },
   "source": [
    "## Preparing the dataset"
   ]
  },
  {
   "cell_type": "code",
   "execution_count": 5,
   "id": "276c3e9f",
   "metadata": {
    "execution": {
     "iopub.execute_input": "2025-04-28T20:36:32.774063Z",
     "iopub.status.busy": "2025-04-28T20:36:32.773749Z",
     "iopub.status.idle": "2025-04-28T20:36:40.321003Z",
     "shell.execute_reply": "2025-04-28T20:36:40.319789Z"
    },
    "papermill": {
     "duration": 7.553818,
     "end_time": "2025-04-28T20:36:40.322758",
     "exception": false,
     "start_time": "2025-04-28T20:36:32.768940",
     "status": "completed"
    },
    "tags": []
   },
   "outputs": [
    {
     "name": "stdout",
     "output_type": "stream",
     "text": [
      "Found 8000 files belonging to 4 classes.\n",
      "Using 6400 files for training.\n"
     ]
    },
    {
     "name": "stderr",
     "output_type": "stream",
     "text": [
      "2025-04-28 20:36:36.254179: E external/local_xla/xla/stream_executor/cuda/cuda_driver.cc:152] failed call to cuInit: INTERNAL: CUDA error: Failed call to cuInit: UNKNOWN ERROR (303)\n"
     ]
    },
    {
     "name": "stdout",
     "output_type": "stream",
     "text": [
      "Found 8000 files belonging to 4 classes.\n",
      "Using 1600 files for validation.\n",
      "Found 8000 files belonging to 4 classes.\n",
      "Datasets prepared successfully!\n"
     ]
    }
   ],
   "source": [
    "# 2. Set batch size and seed\n",
    "batch_size = 32\n",
    "seed = 42\n",
    "\n",
    "# 3. Create training, validation, and test datasets\n",
    "train_ds = tf.keras.utils.text_dataset_from_directory(\n",
    "    '/kaggle/input/stack-overflow/train',\n",
    "    batch_size=batch_size,\n",
    "    validation_split=0.2,\n",
    "    subset='training',\n",
    "    seed=seed\n",
    ")\n",
    "\n",
    "val_ds = tf.keras.utils.text_dataset_from_directory(\n",
    "    '/kaggle/input/stack-overflow/train',\n",
    "    batch_size=batch_size,\n",
    "    validation_split=0.2,\n",
    "    subset='validation',\n",
    "    seed=seed\n",
    ")\n",
    "\n",
    "test_ds = tf.keras.utils.text_dataset_from_directory(\n",
    "    '/kaggle/input/stack-overflow/test',\n",
    "    batch_size=batch_size\n",
    ")\n",
    "\n",
    "print(\"Datasets prepared successfully!\")"
   ]
  },
  {
   "cell_type": "markdown",
   "id": "bc4ef907",
   "metadata": {
    "papermill": {
     "duration": 0.005225,
     "end_time": "2025-04-28T20:36:40.332497",
     "exception": false,
     "start_time": "2025-04-28T20:36:40.327272",
     "status": "completed"
    },
    "tags": []
   },
   "source": [
    "# Updating the Model Architecture\n"
   ]
  },
  {
   "cell_type": "code",
   "execution_count": 6,
   "id": "b9a87f86",
   "metadata": {
    "execution": {
     "iopub.execute_input": "2025-04-28T20:36:40.342492Z",
     "iopub.status.busy": "2025-04-28T20:36:40.342120Z",
     "iopub.status.idle": "2025-04-28T20:36:45.563490Z",
     "shell.execute_reply": "2025-04-28T20:36:45.562512Z"
    },
    "papermill": {
     "duration": 5.228669,
     "end_time": "2025-04-28T20:36:45.565274",
     "exception": false,
     "start_time": "2025-04-28T20:36:40.336605",
     "status": "completed"
    },
    "tags": []
   },
   "outputs": [],
   "source": [
    "from tensorflow.keras import layers\n",
    "\n",
    "# Create a text vectorization layer\n",
    "max_features = 10000\n",
    "sequence_length = 250\n",
    "\n",
    "vectorize_layer = layers.TextVectorization(\n",
    "    max_tokens=max_features,\n",
    "    output_mode='int',\n",
    "    output_sequence_length=sequence_length)\n",
    "\n",
    "# Make a text-only dataset (without labels) for adapt()\n",
    "train_text = train_ds.map(lambda x, y: x)\n",
    "vectorize_layer.adapt(train_text)\n",
    "\n",
    "# Build the model\n",
    "model = tf.keras.Sequential([\n",
    "    vectorize_layer,\n",
    "    layers.Embedding(max_features + 1, 16),\n",
    "    layers.Dropout(0.2),\n",
    "    layers.GlobalAveragePooling1D(),\n",
    "    layers.Dropout(0.2),\n",
    "    layers.Dense(4)  \n",
    "])"
   ]
  },
  {
   "cell_type": "markdown",
   "id": "2801f4e1",
   "metadata": {
    "papermill": {
     "duration": 0.004054,
     "end_time": "2025-04-28T20:36:45.573865",
     "exception": false,
     "start_time": "2025-04-28T20:36:45.569811",
     "status": "completed"
    },
    "tags": []
   },
   "source": [
    "# Model Compilation\n",
    "\n",
    "updating the model loss function and metrics"
   ]
  },
  {
   "cell_type": "code",
   "execution_count": 7,
   "id": "751124a2",
   "metadata": {
    "execution": {
     "iopub.execute_input": "2025-04-28T20:36:45.583520Z",
     "iopub.status.busy": "2025-04-28T20:36:45.583123Z",
     "iopub.status.idle": "2025-04-28T20:36:45.602219Z",
     "shell.execute_reply": "2025-04-28T20:36:45.601201Z"
    },
    "papermill": {
     "duration": 0.026015,
     "end_time": "2025-04-28T20:36:45.603980",
     "exception": false,
     "start_time": "2025-04-28T20:36:45.577965",
     "status": "completed"
    },
    "tags": []
   },
   "outputs": [],
   "source": [
    "model.compile(\n",
    "    loss=tf.keras.losses.SparseCategoricalCrossentropy(from_logits=True),\n",
    "    optimizer='adam',\n",
    "    metrics=['accuracy'])  # Changed from BinaryAccuracy to accuracy"
   ]
  },
  {
   "cell_type": "code",
   "execution_count": 8,
   "id": "01391666",
   "metadata": {
    "execution": {
     "iopub.execute_input": "2025-04-28T20:36:45.613622Z",
     "iopub.status.busy": "2025-04-28T20:36:45.613214Z",
     "iopub.status.idle": "2025-04-28T20:36:45.632119Z",
     "shell.execute_reply": "2025-04-28T20:36:45.631181Z"
    },
    "papermill": {
     "duration": 0.025422,
     "end_time": "2025-04-28T20:36:45.633654",
     "exception": false,
     "start_time": "2025-04-28T20:36:45.608232",
     "status": "completed"
    },
    "tags": []
   },
   "outputs": [
    {
     "data": {
      "text/html": [
       "<pre style=\"white-space:pre;overflow-x:auto;line-height:normal;font-family:Menlo,'DejaVu Sans Mono',consolas,'Courier New',monospace\"><span style=\"font-weight: bold\">Model: \"sequential\"</span>\n",
       "</pre>\n"
      ],
      "text/plain": [
       "\u001b[1mModel: \"sequential\"\u001b[0m\n"
      ]
     },
     "metadata": {},
     "output_type": "display_data"
    },
    {
     "data": {
      "text/html": [
       "<pre style=\"white-space:pre;overflow-x:auto;line-height:normal;font-family:Menlo,'DejaVu Sans Mono',consolas,'Courier New',monospace\">┏━━━━━━━━━━━━━━━━━━━━━━━━━━━━━━━━━━━━━━┳━━━━━━━━━━━━━━━━━━━━━━━━━━━━━┳━━━━━━━━━━━━━━━━━┓\n",
       "┃<span style=\"font-weight: bold\"> Layer (type)                         </span>┃<span style=\"font-weight: bold\"> Output Shape                </span>┃<span style=\"font-weight: bold\">         Param # </span>┃\n",
       "┡━━━━━━━━━━━━━━━━━━━━━━━━━━━━━━━━━━━━━━╇━━━━━━━━━━━━━━━━━━━━━━━━━━━━━╇━━━━━━━━━━━━━━━━━┩\n",
       "│ text_vectorization                   │ ?                           │     <span style=\"color: #00af00; text-decoration-color: #00af00\">0</span> (unbuilt) │\n",
       "│ (<span style=\"color: #0087ff; text-decoration-color: #0087ff\">TextVectorization</span>)                  │                             │                 │\n",
       "├──────────────────────────────────────┼─────────────────────────────┼─────────────────┤\n",
       "│ embedding (<span style=\"color: #0087ff; text-decoration-color: #0087ff\">Embedding</span>)                │ ?                           │     <span style=\"color: #00af00; text-decoration-color: #00af00\">0</span> (unbuilt) │\n",
       "├──────────────────────────────────────┼─────────────────────────────┼─────────────────┤\n",
       "│ dropout (<span style=\"color: #0087ff; text-decoration-color: #0087ff\">Dropout</span>)                    │ ?                           │     <span style=\"color: #00af00; text-decoration-color: #00af00\">0</span> (unbuilt) │\n",
       "├──────────────────────────────────────┼─────────────────────────────┼─────────────────┤\n",
       "│ global_average_pooling1d             │ ?                           │     <span style=\"color: #00af00; text-decoration-color: #00af00\">0</span> (unbuilt) │\n",
       "│ (<span style=\"color: #0087ff; text-decoration-color: #0087ff\">GlobalAveragePooling1D</span>)             │                             │                 │\n",
       "├──────────────────────────────────────┼─────────────────────────────┼─────────────────┤\n",
       "│ dropout_1 (<span style=\"color: #0087ff; text-decoration-color: #0087ff\">Dropout</span>)                  │ ?                           │     <span style=\"color: #00af00; text-decoration-color: #00af00\">0</span> (unbuilt) │\n",
       "├──────────────────────────────────────┼─────────────────────────────┼─────────────────┤\n",
       "│ dense (<span style=\"color: #0087ff; text-decoration-color: #0087ff\">Dense</span>)                        │ ?                           │     <span style=\"color: #00af00; text-decoration-color: #00af00\">0</span> (unbuilt) │\n",
       "└──────────────────────────────────────┴─────────────────────────────┴─────────────────┘\n",
       "</pre>\n"
      ],
      "text/plain": [
       "┏━━━━━━━━━━━━━━━━━━━━━━━━━━━━━━━━━━━━━━┳━━━━━━━━━━━━━━━━━━━━━━━━━━━━━┳━━━━━━━━━━━━━━━━━┓\n",
       "┃\u001b[1m \u001b[0m\u001b[1mLayer (type)                        \u001b[0m\u001b[1m \u001b[0m┃\u001b[1m \u001b[0m\u001b[1mOutput Shape               \u001b[0m\u001b[1m \u001b[0m┃\u001b[1m \u001b[0m\u001b[1m        Param #\u001b[0m\u001b[1m \u001b[0m┃\n",
       "┡━━━━━━━━━━━━━━━━━━━━━━━━━━━━━━━━━━━━━━╇━━━━━━━━━━━━━━━━━━━━━━━━━━━━━╇━━━━━━━━━━━━━━━━━┩\n",
       "│ text_vectorization                   │ ?                           │     \u001b[38;5;34m0\u001b[0m (unbuilt) │\n",
       "│ (\u001b[38;5;33mTextVectorization\u001b[0m)                  │                             │                 │\n",
       "├──────────────────────────────────────┼─────────────────────────────┼─────────────────┤\n",
       "│ embedding (\u001b[38;5;33mEmbedding\u001b[0m)                │ ?                           │     \u001b[38;5;34m0\u001b[0m (unbuilt) │\n",
       "├──────────────────────────────────────┼─────────────────────────────┼─────────────────┤\n",
       "│ dropout (\u001b[38;5;33mDropout\u001b[0m)                    │ ?                           │     \u001b[38;5;34m0\u001b[0m (unbuilt) │\n",
       "├──────────────────────────────────────┼─────────────────────────────┼─────────────────┤\n",
       "│ global_average_pooling1d             │ ?                           │     \u001b[38;5;34m0\u001b[0m (unbuilt) │\n",
       "│ (\u001b[38;5;33mGlobalAveragePooling1D\u001b[0m)             │                             │                 │\n",
       "├──────────────────────────────────────┼─────────────────────────────┼─────────────────┤\n",
       "│ dropout_1 (\u001b[38;5;33mDropout\u001b[0m)                  │ ?                           │     \u001b[38;5;34m0\u001b[0m (unbuilt) │\n",
       "├──────────────────────────────────────┼─────────────────────────────┼─────────────────┤\n",
       "│ dense (\u001b[38;5;33mDense\u001b[0m)                        │ ?                           │     \u001b[38;5;34m0\u001b[0m (unbuilt) │\n",
       "└──────────────────────────────────────┴─────────────────────────────┴─────────────────┘\n"
      ]
     },
     "metadata": {},
     "output_type": "display_data"
    },
    {
     "data": {
      "text/html": [
       "<pre style=\"white-space:pre;overflow-x:auto;line-height:normal;font-family:Menlo,'DejaVu Sans Mono',consolas,'Courier New',monospace\"><span style=\"font-weight: bold\"> Total params: </span><span style=\"color: #00af00; text-decoration-color: #00af00\">0</span> (0.00 B)\n",
       "</pre>\n"
      ],
      "text/plain": [
       "\u001b[1m Total params: \u001b[0m\u001b[38;5;34m0\u001b[0m (0.00 B)\n"
      ]
     },
     "metadata": {},
     "output_type": "display_data"
    },
    {
     "data": {
      "text/html": [
       "<pre style=\"white-space:pre;overflow-x:auto;line-height:normal;font-family:Menlo,'DejaVu Sans Mono',consolas,'Courier New',monospace\"><span style=\"font-weight: bold\"> Trainable params: </span><span style=\"color: #00af00; text-decoration-color: #00af00\">0</span> (0.00 B)\n",
       "</pre>\n"
      ],
      "text/plain": [
       "\u001b[1m Trainable params: \u001b[0m\u001b[38;5;34m0\u001b[0m (0.00 B)\n"
      ]
     },
     "metadata": {},
     "output_type": "display_data"
    },
    {
     "data": {
      "text/html": [
       "<pre style=\"white-space:pre;overflow-x:auto;line-height:normal;font-family:Menlo,'DejaVu Sans Mono',consolas,'Courier New',monospace\"><span style=\"font-weight: bold\"> Non-trainable params: </span><span style=\"color: #00af00; text-decoration-color: #00af00\">0</span> (0.00 B)\n",
       "</pre>\n"
      ],
      "text/plain": [
       "\u001b[1m Non-trainable params: \u001b[0m\u001b[38;5;34m0\u001b[0m (0.00 B)\n"
      ]
     },
     "metadata": {},
     "output_type": "display_data"
    }
   ],
   "source": [
    "model.summary()"
   ]
  },
  {
   "cell_type": "markdown",
   "id": "0876554a",
   "metadata": {
    "papermill": {
     "duration": 0.004342,
     "end_time": "2025-04-28T20:36:45.643004",
     "exception": false,
     "start_time": "2025-04-28T20:36:45.638662",
     "status": "completed"
    },
    "tags": []
   },
   "source": [
    "# Training the model\n",
    "\n",
    "The output will reflect multi-class metrics"
   ]
  },
  {
   "cell_type": "code",
   "execution_count": 9,
   "id": "d514a8de",
   "metadata": {
    "execution": {
     "iopub.execute_input": "2025-04-28T20:36:45.653276Z",
     "iopub.status.busy": "2025-04-28T20:36:45.652928Z",
     "iopub.status.idle": "2025-04-28T20:37:09.364017Z",
     "shell.execute_reply": "2025-04-28T20:37:09.363064Z"
    },
    "papermill": {
     "duration": 23.71835,
     "end_time": "2025-04-28T20:37:09.365842",
     "exception": false,
     "start_time": "2025-04-28T20:36:45.647492",
     "status": "completed"
    },
    "tags": []
   },
   "outputs": [
    {
     "name": "stdout",
     "output_type": "stream",
     "text": [
      "Epoch 1/10\n",
      "\u001b[1m200/200\u001b[0m \u001b[32m━━━━━━━━━━━━━━━━━━━━\u001b[0m\u001b[37m\u001b[0m \u001b[1m6s\u001b[0m 17ms/step - accuracy: 0.2950 - loss: 1.3801 - val_accuracy: 0.3431 - val_loss: 1.3582\n",
      "Epoch 2/10\n",
      "\u001b[1m200/200\u001b[0m \u001b[32m━━━━━━━━━━━━━━━━━━━━\u001b[0m\u001b[37m\u001b[0m \u001b[1m2s\u001b[0m 10ms/step - accuracy: 0.4117 - loss: 1.3431 - val_accuracy: 0.4481 - val_loss: 1.3082\n",
      "Epoch 3/10\n",
      "\u001b[1m200/200\u001b[0m \u001b[32m━━━━━━━━━━━━━━━━━━━━\u001b[0m\u001b[37m\u001b[0m \u001b[1m2s\u001b[0m 10ms/step - accuracy: 0.5032 - loss: 1.2839 - val_accuracy: 0.5244 - val_loss: 1.2299\n",
      "Epoch 4/10\n",
      "\u001b[1m200/200\u001b[0m \u001b[32m━━━━━━━━━━━━━━━━━━━━\u001b[0m\u001b[37m\u001b[0m \u001b[1m2s\u001b[0m 10ms/step - accuracy: 0.5776 - loss: 1.2029 - val_accuracy: 0.6325 - val_loss: 1.1280\n",
      "Epoch 5/10\n",
      "\u001b[1m200/200\u001b[0m \u001b[32m━━━━━━━━━━━━━━━━━━━━\u001b[0m\u001b[37m\u001b[0m \u001b[1m2s\u001b[0m 10ms/step - accuracy: 0.6180 - loss: 1.1066 - val_accuracy: 0.7069 - val_loss: 1.0430\n",
      "Epoch 6/10\n",
      "\u001b[1m200/200\u001b[0m \u001b[32m━━━━━━━━━━━━━━━━━━━━\u001b[0m\u001b[37m\u001b[0m \u001b[1m2s\u001b[0m 10ms/step - accuracy: 0.6708 - loss: 1.0212 - val_accuracy: 0.6787 - val_loss: 0.9626\n",
      "Epoch 7/10\n",
      "\u001b[1m200/200\u001b[0m \u001b[32m━━━━━━━━━━━━━━━━━━━━\u001b[0m\u001b[37m\u001b[0m \u001b[1m2s\u001b[0m 10ms/step - accuracy: 0.6855 - loss: 0.9517 - val_accuracy: 0.7500 - val_loss: 0.9041\n",
      "Epoch 8/10\n",
      "\u001b[1m200/200\u001b[0m \u001b[32m━━━━━━━━━━━━━━━━━━━━\u001b[0m\u001b[37m\u001b[0m \u001b[1m2s\u001b[0m 10ms/step - accuracy: 0.7192 - loss: 0.8825 - val_accuracy: 0.7437 - val_loss: 0.8468\n",
      "Epoch 9/10\n",
      "\u001b[1m200/200\u001b[0m \u001b[32m━━━━━━━━━━━━━━━━━━━━\u001b[0m\u001b[37m\u001b[0m \u001b[1m2s\u001b[0m 10ms/step - accuracy: 0.7308 - loss: 0.8311 - val_accuracy: 0.7606 - val_loss: 0.8071\n",
      "Epoch 10/10\n",
      "\u001b[1m200/200\u001b[0m \u001b[32m━━━━━━━━━━━━━━━━━━━━\u001b[0m\u001b[37m\u001b[0m \u001b[1m2s\u001b[0m 10ms/step - accuracy: 0.7506 - loss: 0.7850 - val_accuracy: 0.7381 - val_loss: 0.7698\n"
     ]
    }
   ],
   "source": [
    "early_stopping = tf.keras.callbacks.EarlyStopping(\n",
    "    monitor='val_loss',\n",
    "    patience=3,\n",
    "    restore_best_weights=True\n",
    ")\n",
    "\n",
    "epochs = 10\n",
    "history = model.fit(\n",
    "    train_ds,\n",
    "    validation_data=val_ds,\n",
    "    verbose=1,\n",
    "    epochs=epochs,\n",
    "    callbacks=[early_stopping]\n",
    ")\n"
   ]
  },
  {
   "cell_type": "markdown",
   "id": "38e2b610",
   "metadata": {
    "papermill": {
     "duration": 0.020209,
     "end_time": "2025-04-28T20:37:09.407677",
     "exception": false,
     "start_time": "2025-04-28T20:37:09.387468",
     "status": "completed"
    },
    "tags": []
   },
   "source": [
    "# Evaluating the model"
   ]
  },
  {
   "cell_type": "code",
   "execution_count": 10,
   "id": "25ac6092",
   "metadata": {
    "execution": {
     "iopub.execute_input": "2025-04-28T20:37:09.451580Z",
     "iopub.status.busy": "2025-04-28T20:37:09.450765Z",
     "iopub.status.idle": "2025-04-28T20:37:15.213243Z",
     "shell.execute_reply": "2025-04-28T20:37:15.212177Z"
    },
    "papermill": {
     "duration": 5.785531,
     "end_time": "2025-04-28T20:37:15.214620",
     "exception": false,
     "start_time": "2025-04-28T20:37:09.429089",
     "status": "completed"
    },
    "tags": []
   },
   "outputs": [
    {
     "name": "stdout",
     "output_type": "stream",
     "text": [
      "\u001b[1m250/250\u001b[0m \u001b[32m━━━━━━━━━━━━━━━━━━━━\u001b[0m\u001b[37m\u001b[0m \u001b[1m6s\u001b[0m 23ms/step - accuracy: 0.7340 - loss: 0.7949\n",
      "\n",
      " Test Loss:  0.8084717988967896\n",
      "\n",
      " Test Accuracy:  0.7210000157356262\n"
     ]
    }
   ],
   "source": [
    "test_loss, test_acc = model.evaluate(test_ds)\n",
    "\n",
    "print(\"\\n Test Loss: \", test_loss)\n",
    "print(\"\\n Test Accuracy: \", test_acc)"
   ]
  },
  {
   "cell_type": "markdown",
   "id": "43a9c727",
   "metadata": {
    "papermill": {
     "duration": 0.02442,
     "end_time": "2025-04-28T20:37:15.264244",
     "exception": false,
     "start_time": "2025-04-28T20:37:15.239824",
     "status": "completed"
    },
    "tags": []
   },
   "source": [
    "# Creating a plot of accuracy and loss over time"
   ]
  },
  {
   "cell_type": "code",
   "execution_count": 11,
   "id": "a14490e9",
   "metadata": {
    "execution": {
     "iopub.execute_input": "2025-04-28T20:37:15.314808Z",
     "iopub.status.busy": "2025-04-28T20:37:15.314286Z",
     "iopub.status.idle": "2025-04-28T20:37:15.769679Z",
     "shell.execute_reply": "2025-04-28T20:37:15.768562Z"
    },
    "papermill": {
     "duration": 0.48257,
     "end_time": "2025-04-28T20:37:15.771284",
     "exception": false,
     "start_time": "2025-04-28T20:37:15.288714",
     "status": "completed"
    },
    "tags": []
   },
   "outputs": [
    {
     "data": {
      "image/png": "[encoded data removed]",
      "text/plain": [
       "<Figure size 1400x600 with 2 Axes>"
      ]
     },
     "metadata": {},
     "output_type": "display_data"
    }
   ],
   "source": [
    "import matplotlib.pyplot as plt\n",
    "\n",
    "#Extract history values\n",
    "acc = history.history['accuracy']\n",
    "val_acc = history.history['val_accuracy']\n",
    "\n",
    "loss = history.history['loss']\n",
    "val_loss = history.history['val_loss']\n",
    "\n",
    "epochs_range = range(len(acc))\n",
    "\n",
    "# Plotting the curves\n",
    "plt.figure(figsize=(14,6))\n",
    "\n",
    "#Accuracy plot\n",
    "plt.subplot(1, 2, 1)\n",
    "# \"bo\" is for \"blue dot\"\n",
    "plt.plot(epochs_range, acc, 'bo', label='Training Accuracy')\n",
    "# \"b\" is for \"blue dot\"\n",
    "plt.plot(epochs_range, val_acc, 'b', label='Validation Accuracy') \n",
    "plt.legend(loc='lower right')\n",
    "plt.xlabel('Epochs')\n",
    "plt.ylabel('Accuracy')\n",
    "plt.title('Training and Validation Accuracy')\n",
    "\n",
    "# Loss plot\n",
    "plt.subplot(1, 2, 2)\n",
    "# \"bo\" is for \"blue dot\"\n",
    "plt.plot(epochs_range, loss, 'bo', label='Training Loss')\n",
    "# \"b\" is for \"blue dot\"\n",
    "plt.plot(epochs_range, val_loss, 'b', label='Validation Loss') \n",
    "plt.legend(loc='upper right')\n",
    "plt.xlabel('Epochs')\n",
    "plt.ylabel('Loss')\n",
    "plt.title('Training and Validation Loss')\n",
    "\n",
    "plt.show()"
   ]
  },
  {
   "cell_type": "markdown",
   "id": "1f5e2e83",
   "metadata": {
    "papermill": {
     "duration": 0.026111,
     "end_time": "2025-04-28T20:37:15.824988",
     "exception": false,
     "start_time": "2025-04-28T20:37:15.798877",
     "status": "completed"
    },
    "tags": []
   },
   "source": [
    "In this plot, the dots represent the training loss and accuracy, and the solid lines are the validation loss and accuracy.\n",
    "\n",
    "Notice the training loss decreases with each epoch and the training accuracy increases with each epoch. This is expected when using a gradient descent optimization—it should minimize the desired quantity on every iteration.\n",
    "\n",
    "This isn't the case for the validation loss and accuracy—they seem to peak before the training accuracy. This is an example of overfitting: the model performs better on the training data than it does on data it has never seen before. After this point, the model over-optimizes and learns representations specific to the training data that do not generalize to test data"
   ]
  }
 ],
 "metadata": {
  "kaggle": {
   "accelerator": "none",
   "dataSources": [
    {
     "datasetId": 7278648,
     "sourceId": 11604764,
     "sourceType": "datasetVersion"
    }
   ],
   "isGpuEnabled": false,
   "isInternetEnabled": true,
   "language": "python",
   "sourceType": "notebook"
  },
  "kernelspec": {
   "display_name": "Python 3",
   "language": "python",
   "name": "python3"
  },
  "language_info": {
   "codemirror_mode": {
    "name": "ipython",
    "version": 3
   },
   "file_extension": ".py",
   "mimetype": "text/x-python",
   "name": "python",
   "nbconvert_exporter": "python",
   "pygments_lexer": "ipython3",
   "version": "3.11.11"
  },
  "papermill": {
   "default_parameters": {},
   "duration": 71.286319,
   "end_time": "2025-04-28T20:37:18.727857",
   "environment_variables": {},
   "exception": null,
   "input_path": "__notebook__.ipynb",
   "output_path": "__notebook__.ipynb",
   "parameters": {},
   "start_time": "2025-04-28T20:36:07.441538",
   "version": "2.6.0"
  }
 },
 "nbformat": 4,
 "nbformat_minor": 5
}
