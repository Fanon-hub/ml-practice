{
  "nbformat": 4,
  "nbformat_minor": 0,
  "metadata": {
    "colab": {
      "provenance": []
    },
    "kernelspec": {
      "name": "python3",
      "display_name": "Python 3"
    },
    "language_info": {
      "name": "python"
    }
  },
  "cells": [
    {
      "cell_type": "markdown",
      "source": [
        "Training a machine learning model using a prebuilt dataset using the [Keras](https://) Api"
      ],
      "metadata": {
        "id": "adMNuaDLPKpZ"
      }
    },
    {
      "cell_type": "markdown",
      "source": [
        "## Setting up the TensorFlow\n"
      ],
      "metadata": {
        "id": "nXnh6CMFDeMe"
      }
    },
    {
      "cell_type": "code",
      "source": [
        "import tensorflow as tf\n",
        "print(\"TensorFlow version:\", tf.__version__)"
      ],
      "metadata": {
        "colab": {
          "base_uri": "https://localhost:8080/"
        },
        "id": "RytWU9VlDjQ1",
        "outputId": "afb87308-7391-4a78-f8b7-0281fc00682b"
      },
      "execution_count": 25,
      "outputs": [
        {
          "output_type": "stream",
          "name": "stdout",
          "text": [
            "TensorFlow version: 2.18.0\n"
          ]
        }
      ]
    },
    {
      "cell_type": "markdown",
      "source": [
        "##Loading the Dataset\n",
        "\n",
        "Here I am using MNIST dataset. The pixel values of the images range from 0 through 255. I will scale these values to a range of 0 to 1 by dividing the values by `255.0.` This will also convert the data from integers to floating-point numbers."
      ],
      "metadata": {
        "id": "rGKesgXaD2Ck"
      }
    },
    {
      "cell_type": "code",
      "source": [
        "from re import X\n",
        "mnist = tf.keras.datasets.mnist\n",
        "(X_train, y_train), (x_test, y_test) = mnist.load_data()\n",
        "X_train, x_test = X_train / 255.0, x_test / 255.0"
      ],
      "metadata": {
        "id": "uOIu8xMiDwXv"
      },
      "execution_count": 26,
      "outputs": []
    },
    {
      "cell_type": "markdown",
      "source": [
        "##Building a machine learning model\n",
        "\n",
        "I will build the ML model using a [tf.keras.Sequential](https://) model. This model uses [Flatten](https://), [Dense](https://), and [Dropout](https://) layers. Layers are functions with a known mathematical structure that can be reused and have trainable variables."
      ],
      "metadata": {
        "id": "WLn1StsPIMg5"
      }
    },
    {
      "cell_type": "code",
      "source": [
        "model = tf.keras.models.Sequential([\n",
        "    tf.keras.layers.Flatten(input_shape=(28,28)),\n",
        "    tf.keras.layers.Dense(128, activation='relu'), #softmax function does not provide an exact and numerically stable loss calculation for all models when used.\n",
        "    tf.keras.layers.Dropout(0.2),\n",
        "    tf.keras.layers.Dense(10)\n",
        "])"
      ],
      "metadata": {
        "colab": {
          "base_uri": "https://localhost:8080/"
        },
        "id": "7lqe6FvpGAwB",
        "outputId": "1e5ab90f-f7e1-4899-f966-901eeefcefb6"
      },
      "execution_count": 27,
      "outputs": [
        {
          "output_type": "stream",
          "name": "stderr",
          "text": [
            "/usr/local/lib/python3.11/dist-packages/keras/src/layers/reshaping/flatten.py:37: UserWarning: Do not pass an `input_shape`/`input_dim` argument to a layer. When using Sequential models, prefer using an `Input(shape)` object as the first layer in the model instead.\n",
            "  super().__init__(**kwargs)\n"
          ]
        }
      ]
    },
    {
      "cell_type": "markdown",
      "source": [
        "The model returns a vector of [logits](https://) or [log-odds](https://) scores, one for each class"
      ],
      "metadata": {
        "id": "Pj2t196BIoAq"
      }
    },
    {
      "cell_type": "code",
      "source": [
        "predictions = model(X_train[:1]).numpy()"
      ],
      "metadata": {
        "id": "w52MMvACIduz"
      },
      "execution_count": 28,
      "outputs": []
    },
    {
      "cell_type": "markdown",
      "source": [
        "The [tf.nn.softmax ](https://)function converts these logits to *probabilities* for each class."
      ],
      "metadata": {
        "id": "awYR_0SrIy_s"
      }
    },
    {
      "cell_type": "code",
      "source": [
        "tf.nn.softmax(predictions).numpy()"
      ],
      "metadata": {
        "colab": {
          "base_uri": "https://localhost:8080/"
        },
        "id": "xNn5VQfNIk_s",
        "outputId": "81d229b6-7f18-474a-a315-666dce0619e5"
      },
      "execution_count": 29,
      "outputs": [
        {
          "output_type": "execute_result",
          "data": {
            "text/plain": [
              "array([[0.09641203, 0.09046596, 0.14854874, 0.12733117, 0.12578098,\n",
              "        0.1025115 , 0.09339912, 0.06263559, 0.08707506, 0.06583982]],\n",
              "      dtype=float32)"
            ]
          },
          "metadata": {},
          "execution_count": 29
        }
      ]
    },
    {
      "cell_type": "markdown",
      "source": [
        "##Defining a loss function\n",
        "\n",
        "Here we use [losses.SparseCategoricalCrossentropy](https://)\n",
        "\n",
        "The loss function takes a vector of ground truth values and a vector of logits and returns a scalar loss for each example. This loss is equal to the negative log probability of the true class: The loss is zero if the model is sure of the correct class.\n",
        "\n",
        "This untrained model gives probabilities close to random (1/10 for each class), so the initial loss should be close to `-tf.math.log(1/10) ~= 2.3.`"
      ],
      "metadata": {
        "id": "BL8Grcl1Jeqa"
      }
    },
    {
      "cell_type": "code",
      "source": [
        "loss_fn = tf.keras.losses.SparseCategoricalCrossentropy(from_logits=True)"
      ],
      "metadata": {
        "id": "qhBR9C3jJGt1"
      },
      "execution_count": 30,
      "outputs": []
    },
    {
      "cell_type": "code",
      "source": [
        "loss_fn(y_train[:1], predictions).numpy()"
      ],
      "metadata": {
        "colab": {
          "base_uri": "https://localhost:8080/"
        },
        "id": "bFKqVnQrKHLH",
        "outputId": "e235baee-caf6-4df3-b3b8-311fcaae8702"
      },
      "execution_count": 31,
      "outputs": [
        {
          "output_type": "execute_result",
          "data": {
            "text/plain": [
              "np.float32(2.2777803)"
            ]
          },
          "metadata": {},
          "execution_count": 31
        }
      ]
    },
    {
      "cell_type": "markdown",
      "source": [
        "##Compiling the model"
      ],
      "metadata": {
        "id": "ejuULNX1KvcN"
      }
    },
    {
      "cell_type": "code",
      "source": [
        "model.compile(optimizer='adam',\n",
        "               loss=loss_fn,\n",
        "               metrics=['accuracy']\n",
        "               )"
      ],
      "metadata": {
        "id": "2u5RNNfeKaIO"
      },
      "execution_count": 32,
      "outputs": []
    },
    {
      "cell_type": "markdown",
      "source": [
        "##Training and Evaluating the Model\n",
        "\n",
        "I will use [Model.fit](https://) method to adjust the model parameters and minimize the loss"
      ],
      "metadata": {
        "id": "aOEtrH_vLGfR"
      }
    },
    {
      "cell_type": "code",
      "source": [
        "model.fit(X_train, y_train, epochs=10)"
      ],
      "metadata": {
        "colab": {
          "base_uri": "https://localhost:8080/"
        },
        "id": "m44JuxbNLAIS",
        "outputId": "67fa3049-dab4-4812-afa6-76f359b3d35d"
      },
      "execution_count": 33,
      "outputs": [
        {
          "output_type": "stream",
          "name": "stdout",
          "text": [
            "Epoch 1/10\n",
            "\u001b[1m1875/1875\u001b[0m \u001b[32m━━━━━━━━━━━━━━━━━━━━\u001b[0m\u001b[37m\u001b[0m \u001b[1m9s\u001b[0m 4ms/step - accuracy: 0.8574 - loss: 0.4844\n",
            "Epoch 2/10\n",
            "\u001b[1m1875/1875\u001b[0m \u001b[32m━━━━━━━━━━━━━━━━━━━━\u001b[0m\u001b[37m\u001b[0m \u001b[1m11s\u001b[0m 4ms/step - accuracy: 0.9561 - loss: 0.1488\n",
            "Epoch 3/10\n",
            "\u001b[1m1875/1875\u001b[0m \u001b[32m━━━━━━━━━━━━━━━━━━━━\u001b[0m\u001b[37m\u001b[0m \u001b[1m10s\u001b[0m 5ms/step - accuracy: 0.9660 - loss: 0.1128\n",
            "Epoch 4/10\n",
            "\u001b[1m1875/1875\u001b[0m \u001b[32m━━━━━━━━━━━━━━━━━━━━\u001b[0m\u001b[37m\u001b[0m \u001b[1m8s\u001b[0m 4ms/step - accuracy: 0.9744 - loss: 0.0823\n",
            "Epoch 5/10\n",
            "\u001b[1m1875/1875\u001b[0m \u001b[32m━━━━━━━━━━━━━━━━━━━━\u001b[0m\u001b[37m\u001b[0m \u001b[1m10s\u001b[0m 4ms/step - accuracy: 0.9776 - loss: 0.0714\n",
            "Epoch 6/10\n",
            "\u001b[1m1875/1875\u001b[0m \u001b[32m━━━━━━━━━━━━━━━━━━━━\u001b[0m\u001b[37m\u001b[0m \u001b[1m11s\u001b[0m 4ms/step - accuracy: 0.9797 - loss: 0.0638\n",
            "Epoch 7/10\n",
            "\u001b[1m1875/1875\u001b[0m \u001b[32m━━━━━━━━━━━━━━━━━━━━\u001b[0m\u001b[37m\u001b[0m \u001b[1m8s\u001b[0m 4ms/step - accuracy: 0.9825 - loss: 0.0534\n",
            "Epoch 8/10\n",
            "\u001b[1m1875/1875\u001b[0m \u001b[32m━━━━━━━━━━━━━━━━━━━━\u001b[0m\u001b[37m\u001b[0m \u001b[1m10s\u001b[0m 4ms/step - accuracy: 0.9838 - loss: 0.0503\n",
            "Epoch 9/10\n",
            "\u001b[1m1875/1875\u001b[0m \u001b[32m━━━━━━━━━━━━━━━━━━━━\u001b[0m\u001b[37m\u001b[0m \u001b[1m9s\u001b[0m 4ms/step - accuracy: 0.9849 - loss: 0.0456\n",
            "Epoch 10/10\n",
            "\u001b[1m1875/1875\u001b[0m \u001b[32m━━━━━━━━━━━━━━━━━━━━\u001b[0m\u001b[37m\u001b[0m \u001b[1m10s\u001b[0m 4ms/step - accuracy: 0.9856 - loss: 0.0419\n"
          ]
        },
        {
          "output_type": "execute_result",
          "data": {
            "text/plain": [
              "<keras.src.callbacks.history.History at 0x7a8673f5c950>"
            ]
          },
          "metadata": {},
          "execution_count": 33
        }
      ]
    },
    {
      "cell_type": "markdown",
      "source": [
        "Using the [Model.evaluate](https://) method to check the performance of [validation set](https://) or [test set](https://)"
      ],
      "metadata": {
        "id": "ke6ESGVsLyIC"
      }
    },
    {
      "cell_type": "code",
      "source": [
        "model.evaluate(x_test, y_test, verbose=2)"
      ],
      "metadata": {
        "colab": {
          "base_uri": "https://localhost:8080/"
        },
        "id": "cjFScFRLLbC5",
        "outputId": "7cae43da-167d-4eb8-e293-d7fdc91faab2"
      },
      "execution_count": 37,
      "outputs": [
        {
          "output_type": "stream",
          "name": "stdout",
          "text": [
            "313/313 - 1s - 2ms/step - accuracy: 0.9795 - loss: 0.0680\n"
          ]
        },
        {
          "output_type": "execute_result",
          "data": {
            "text/plain": [
              "[0.06801829487085342, 0.9794999957084656]"
            ]
          },
          "metadata": {},
          "execution_count": 37
        }
      ]
    },
    {
      "cell_type": "markdown",
      "source": [
        "The image classifier is now trained to ~98% accuracy of the mnist dataset"
      ],
      "metadata": {
        "id": "MxudRlXVMlvo"
      }
    },
    {
      "cell_type": "markdown",
      "source": [
        "Wrapping the trained model to return a probability"
      ],
      "metadata": {
        "id": "o-XzzqJNM4dJ"
      }
    },
    {
      "cell_type": "code",
      "source": [
        "probability_model = tf.keras.Sequential([\n",
        "    model,\n",
        "    tf.keras.layers.Softmax()\n",
        "])\n"
      ],
      "metadata": {
        "id": "yk8RWKQHMNlz"
      },
      "execution_count": 35,
      "outputs": []
    },
    {
      "cell_type": "code",
      "source": [
        "probability_model(x_test[:5])"
      ],
      "metadata": {
        "colab": {
          "base_uri": "https://localhost:8080/"
        },
        "id": "oxvtwXyANP-J",
        "outputId": "ea86d6a8-0dea-49eb-ef6f-6a292b4dd4fc"
      },
      "execution_count": 36,
      "outputs": [
        {
          "output_type": "execute_result",
          "data": {
            "text/plain": [
              "<tf.Tensor: shape=(5, 10), dtype=float32, numpy=\n",
              "array([[2.39939091e-08, 3.53864771e-10, 6.87150646e-07, 4.17984047e-05,\n",
              "        1.68268330e-14, 8.70001937e-09, 2.28211137e-16, 9.99955773e-01,\n",
              "        2.44033878e-08, 1.65862446e-06],\n",
              "       [2.60864610e-08, 3.88052331e-06, 9.99996066e-01, 1.04636086e-08,\n",
              "        1.00581740e-18, 5.56206636e-10, 7.53880680e-10, 3.86680202e-16,\n",
              "        2.65631361e-09, 5.33507672e-18],\n",
              "       [5.10079268e-08, 9.99433458e-01, 4.51573942e-06, 8.08093887e-07,\n",
              "        6.34486241e-06, 9.73586111e-07, 6.85158229e-05, 3.84592859e-04,\n",
              "        1.00558471e-04, 1.04725366e-07],\n",
              "       [9.99989986e-01, 6.03072314e-11, 9.65392246e-07, 3.72265135e-10,\n",
              "        6.59828117e-07, 7.13783891e-07, 7.51251537e-06, 5.07167819e-08,\n",
              "        7.02665648e-10, 1.62070677e-07],\n",
              "       [1.09717774e-07, 6.31773822e-14, 6.74385303e-09, 6.14131690e-10,\n",
              "        9.98772323e-01, 1.07499731e-09, 2.64892464e-07, 5.70834300e-06,\n",
              "        7.42102269e-10, 1.22158695e-03]], dtype=float32)>"
            ]
          },
          "metadata": {},
          "execution_count": 36
        }
      ]
    },
    {
      "cell_type": "code",
      "source": [],
      "metadata": {
        "id": "E7IBWBcENUnC"
      },
      "execution_count": 36,
      "outputs": []
    }
  ]
}